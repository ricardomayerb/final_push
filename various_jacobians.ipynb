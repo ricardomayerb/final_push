{
 "cells": [
  {
   "cell_type": "markdown",
   "metadata": {},
   "source": [
    "# Jacobians for TFP only models"
   ]
  },
  {
   "cell_type": "code",
   "execution_count": 1,
   "metadata": {
    "collapsed": true
   },
   "outputs": [],
   "source": [
    "from sympy import latex\n",
    "import collections"
   ]
  },
  {
   "cell_type": "markdown",
   "metadata": {},
   "source": [
    "## Get the equilibrium equations, as lists"
   ]
  },
  {
   "cell_type": "code",
   "execution_count": 2,
   "metadata": {
    "collapsed": false
   },
   "outputs": [],
   "source": [
    "%run define_tfp_only_equilibrium_eqs.py"
   ]
  },
  {
   "cell_type": "markdown",
   "metadata": {},
   "source": [
    "## The Jacobian need the equations as a matrix, not a list of expressions"
   ]
  },
  {
   "cell_type": "code",
   "execution_count": 3,
   "metadata": {
    "collapsed": false
   },
   "outputs": [
    {
     "data": {
      "text/plain": [
       "(Matrix([\n",
       " [             Ct*beta*((-delta + 1)*exp(-at) + Ytp1*alpha/Kt)/Ctp1 - 1],\n",
       " [                    -Lt/(-Lt + 1) + Yt*nu*(-alpha + 1)/(Ct*(-nu + 1))],\n",
       " [                                                        -Ct - It + Yt],\n",
       " [                               It - Kt + Ktm1*(-delta + 1)*exp(-atm1)],\n",
       " [-Ktm1**alpha*Lt**(-alpha + 1)*exp(-alpha*atm1 + at*(-alpha + 1)) + Yt],\n",
       " [                         -rhoa*zetaatm1 - sigmazetaa*wzetaat + zetaat],\n",
       " [                                     at - mua - sigmaa*wat - zetaatm1]]),\n",
       " Matrix([\n",
       " [Ct*beta*(-delta + 1 + Ytp1*alpha/Ktp1)*exp(-at)/Ctp1 - 1],\n",
       " [       -Lt/(-Lt + 1) + Yt*nu*(-alpha + 1)/(Ct*(-nu + 1))],\n",
       " [                                           -Ct - It + Yt],\n",
       " [                     It + Kt*(-delta + 1) - Ktp1*exp(at)],\n",
       " [   -Kt**alpha*Lt**(-alpha + 1)*exp(at*(-alpha + 1)) + Yt],\n",
       " [            -rhoa*zetaatm1 - sigmazetaa*wzetaat + zetaat],\n",
       " [                        at - mua - sigmaa*wat - zetaatm1]]),\n",
       " Matrix([\n",
       " [             Ct*beta*((-delta + 1)*exp(-at) + Ytp1*alpha/Kt)/Ctp1 - 1],\n",
       " [                    -Lt/(-Lt + 1) + Yt*nu*(-alpha + 1)/(Ct*(-nu + 1))],\n",
       " [                                                        -Ct - It + Yt],\n",
       " [                               It - Kt + Ktm1*(-delta + 1)*exp(-atm1)],\n",
       " [-Ktm1**alpha*Lt**(-alpha + 1)*exp(-alpha*atm1 + at*(-alpha + 1)) + Yt],\n",
       " [                         -rhoa*zetaatm1 - sigmazetaa*wzetaat + zetaat],\n",
       " [                                       at - mua - sigmaa*wat - zetaat]]),\n",
       " Matrix([\n",
       " [Ct*beta*(-delta + 1 + Ytp1*alpha/Ktp1)*exp(-at)/Ctp1 - 1],\n",
       " [       -Lt/(-Lt + 1) + Yt*nu*(-alpha + 1)/(Ct*(-nu + 1))],\n",
       " [                                           -Ct - It + Yt],\n",
       " [                     It + Kt*(-delta + 1) - Ktp1*exp(at)],\n",
       " [   -Kt**alpha*Lt**(-alpha + 1)*exp(at*(-alpha + 1)) + Yt],\n",
       " [            -rhoa*zetaatm1 - sigmazetaa*wzetaat + zetaat],\n",
       " [                          at - mua - sigmaa*wat - zetaat]]))"
      ]
     },
     "execution_count": 3,
     "metadata": {},
     "output_type": "execute_result"
    }
   ],
   "source": [
    "gmat_cikly_az_info = sympy.Matrix(glist_cikly_az_info)\n",
    "gmat_cikly_az_use = sympy.Matrix(glist_cikly_az_use)\n",
    "gmat_cikly_az_info_conte = sympy.Matrix(glist_cikly_az_info_conte)\n",
    "gmat_cikly_az_use_conte = sympy.Matrix(glist_cikly_az_use_conte)\n",
    "gmat_cikly_az_info, gmat_cikly_az_use, gmat_cikly_az_info_conte, gmat_cikly_az_use_conte"
   ]
  },
  {
   "cell_type": "markdown",
   "metadata": {},
   "source": [
    "## Define vectors of variables: $x_{t+1}, x_t, x_{t-1}, w_{t+1}, w_t$"
   ]
  },
  {
   "cell_type": "code",
   "execution_count": 4,
   "metadata": {
    "collapsed": false
   },
   "outputs": [],
   "source": [
    "normal_x_s_d = {st: x_s_d[st] for st in x_s_d.keys() if\n",
    "                             not ('_q' in st or '_1' in st or '_2' in st or '_0' in st\n",
    "                                  or 'ss' in st or 'q' in st)}\n",
    "\n",
    "normal_x_s_tp1 = {st: normal_x_s_d[st] for st in normal_x_s_d.keys() if\n",
    "                               'tp1' in st}\n",
    "\n",
    "normal_x_s_t = {st: normal_x_s_d[st] for st in normal_x_s_d.keys() if\n",
    "                             not('tm1' in st or 'tp1' in st)}\n",
    "\n",
    "normal_x_s_tm1 = {st: normal_x_s_d[st] for st in normal_x_s_d.keys() if\n",
    "                               'tm1' in st}\n",
    "\n",
    "normal_w_s_d = {st: w_s_d[st] for st in w_s_d.keys() if\n",
    "                             not 'ss' in st}\n",
    "\n",
    "normal_w_s_tp1 = {st: normal_w_s_d[st] for st in normal_w_s_d.keys() if\n",
    "                               'tp1' in st}\n",
    "\n",
    "normal_w_s_t = {st: normal_w_s_d[st] for st in normal_w_s_d.keys() if\n",
    "                             not('tm1' in st or 'tp1' in st)}\n",
    "\n",
    "xvar_tp1_sym = normal_x_s_tp1.values()\n",
    "xvar_t_sym = normal_x_s_t.values()\n",
    "xvar_tm1_sym = normal_x_s_tm1.values()\n",
    "wvar_tp1_sym = normal_w_s_tp1.values()\n",
    "wvar_t_sym = normal_w_s_t.values()\n",
    "\n",
    "xvar_tp1_sym = list(sympy.ordered(xvar_tp1_sym))\n",
    "xvar_t_sym = list(sympy.ordered(xvar_t_sym))\n",
    "xvar_tm1_sym = list(sympy.ordered(xvar_tm1_sym))\n",
    "wvar_tp1_sym = list(sympy.ordered(wvar_tp1_sym))\n",
    "wvar_t_sym = list(sympy.ordered(wvar_t_sym))\n"
   ]
  },
  {
   "cell_type": "code",
   "execution_count": 5,
   "metadata": {
    "collapsed": false
   },
   "outputs": [
    {
     "data": {
      "text/plain": [
       "([Ctp1, Itp1, Ktp1, Ltp1, Ytp1, atp1, zetaatp1],\n",
       " [Ct, It, Kt, Lt, Yt, at, zetaat],\n",
       " [Ctm1, Itm1, Ktm1, Ltm1, Ytm1, atm1, zetaatm1],\n",
       " [watp1, wzetaatp1],\n",
       " [wat, wzetaat])"
      ]
     },
     "execution_count": 5,
     "metadata": {},
     "output_type": "execute_result"
    }
   ],
   "source": [
    "xvar_tp1_sym, xvar_t_sym, xvar_tm1_sym, wvar_tp1_sym, wvar_t_sym"
   ]
  },
  {
   "cell_type": "markdown",
   "metadata": {},
   "source": [
    "## Compute the jacobians"
   ]
  },
  {
   "cell_type": "code",
   "execution_count": 6,
   "metadata": {
    "collapsed": false
   },
   "outputs": [],
   "source": [
    "deriv_vars_x_t = xvar_t_sym\n",
    "deriv_vars_x_tm1 = xvar_tm1_sym\n",
    "deriv_vars_x_tp1 = xvar_tp1_sym\n",
    "deriv_vars_w_t = wvar_t_sym\n",
    "deriv_vars_w_tp1 = wvar_tp1_sym\n",
    "\n",
    "deriv_vars_all = [deriv_vars_x_tp1, deriv_vars_x_t, deriv_vars_x_tm1,\n",
    "                  deriv_vars_w_tp1, deriv_vars_w_t]\n"
   ]
  },
  {
   "cell_type": "code",
   "execution_count": 7,
   "metadata": {
    "collapsed": false
   },
   "outputs": [],
   "source": [
    "cikly_az_info_d_g_d_xtp1 = gmat_cikly_az_info.jacobian(deriv_vars_x_tp1)\n",
    "cikly_az_info_d_g_d_xt = gmat_cikly_az_info.jacobian(deriv_vars_x_t)\n",
    "cikly_az_info_d_g_d_xtm1 = gmat_cikly_az_info.jacobian(deriv_vars_x_tm1)\n",
    "cikly_az_info_d_g_d_wtp1 = gmat_cikly_az_info.jacobian(deriv_vars_w_tp1)\n",
    "cikly_az_info_d_g_d_wt = gmat_cikly_az_info.jacobian(deriv_vars_w_t)\n",
    "\n",
    "cikly_az_use_d_g_d_xtp1 = gmat_cikly_az_use.jacobian(deriv_vars_x_tp1)\n",
    "cikly_az_use_d_g_d_xt = gmat_cikly_az_use.jacobian(deriv_vars_x_t)\n",
    "cikly_az_use_d_g_d_xtm1 = gmat_cikly_az_use.jacobian(deriv_vars_x_tm1)\n",
    "cikly_az_use_d_g_d_wtp1 = gmat_cikly_az_use.jacobian(deriv_vars_w_tp1)\n",
    "cikly_az_use_d_g_d_wt = gmat_cikly_az_use.jacobian(deriv_vars_w_t)\n",
    "\n",
    "cikly_az_info_conte_d_g_d_xtp1 = gmat_cikly_az_info_conte.jacobian(deriv_vars_x_tp1)\n",
    "cikly_az_info_conte_d_g_d_xt = gmat_cikly_az_info_conte.jacobian(deriv_vars_x_t)\n",
    "cikly_az_info_conte_d_g_d_xtm1 = gmat_cikly_az_info_conte.jacobian(deriv_vars_x_tm1)\n",
    "cikly_az_info_conte_d_g_d_wtp1 = gmat_cikly_az_info_conte.jacobian(deriv_vars_w_tp1)\n",
    "cikly_az_info_conte_d_g_d_wt = gmat_cikly_az_info_conte.jacobian(deriv_vars_w_t)\n",
    "\n",
    "cikly_az_use_conte_d_g_d_xtp1 = gmat_cikly_az_use_conte.jacobian(deriv_vars_x_tp1)\n",
    "cikly_az_use_conte_d_g_d_xt = gmat_cikly_az_use_conte.jacobian(deriv_vars_x_t)\n",
    "cikly_az_use_conte_d_g_d_xtm1 = gmat_cikly_az_use_conte.jacobian(deriv_vars_x_tm1)\n",
    "cikly_az_use_conte_d_g_d_wtp1 = gmat_cikly_az_use_conte.jacobian(deriv_vars_w_tp1)\n",
    "cikly_az_use_conte_d_g_d_wt = gmat_cikly_az_use_conte.jacobian(deriv_vars_w_t)"
   ]
  },
  {
   "cell_type": "markdown",
   "metadata": {},
   "source": [
    "## Export jacobians and vectors to $\\LaTeX$"
   ]
  },
  {
   "cell_type": "markdown",
   "metadata": {},
   "source": [
    "### Create dictionary to map variable names to latex"
   ]
  },
  {
   "cell_type": "code",
   "execution_count": 8,
   "metadata": {
    "collapsed": false
   },
   "outputs": [
    {
     "data": {
      "text/plain": [
       "OrderedDict([(Itp1, 'I_{t+1}'),\n",
       "             (Ktp1, 'K_{t+1}'),\n",
       "             (atp1, 'a_{t+1}'),\n",
       "             (Ctp1, 'C_{t+1}'),\n",
       "             (Ytp1, 'Y_{t+1}'),\n",
       "             (zetaatp1, '\\\\zeta_{a,t+1}'),\n",
       "             (Ltp1, 'L_{t+1}')])"
      ]
     },
     "execution_count": 8,
     "metadata": {},
     "output_type": "execute_result"
    }
   ],
   "source": [
    "latex_dic_xtp1 = collections.OrderedDict({Ctp1:'C_{t+1}',Itp1:'I_{t+1}',Ktp1:'K_{t+1}',Ltp1:'L_{t+1}',Ytp1:'Y_{t+1}',\n",
    "                  atp1:'a_{t+1}', zetaatp1:'\\zeta_{a,t+1}'})\n",
    "latex_dic_xtp1"
   ]
  },
  {
   "cell_type": "code",
   "execution_count": 9,
   "metadata": {
    "collapsed": false
   },
   "outputs": [
    {
     "data": {
      "text/plain": [
       "OrderedDict([(Itp1, 'I_{t+1}'),\n",
       "             (Ktp1, 'K_{t+1}'),\n",
       "             (atp1, 'a_{t+1}'),\n",
       "             (Ctp1, 'C_{t+1}'),\n",
       "             (Ytp1, 'Y_{t+1}'),\n",
       "             (zetaatp1, '\\\\zeta_{a,t+1}'),\n",
       "             (Ltp1, 'L_{t+1}'),\n",
       "             (Yt, 'Y_{t}'),\n",
       "             (Kt, 'K_{t}'),\n",
       "             (It, 'I_{t}'),\n",
       "             (Lt, 'L_{t}'),\n",
       "             (Ct, 'C_{t}'),\n",
       "             (zetaat, '\\\\zeta_{a,t}'),\n",
       "             (at, 'a_{t}'),\n",
       "             (Ltm1, 'L_{t-1}'),\n",
       "             (Ytm1, 'Y_{t-1}'),\n",
       "             (Ctm1, 'C_{t-1}'),\n",
       "             (atm1, 'a_{t-1}'),\n",
       "             (zetaatm1, '\\\\zeta_{a,t-1}'),\n",
       "             (Ktm1, 'K_{t-1}'),\n",
       "             (Itm1, 'I_{t-1}'),\n",
       "             (watp1, 'w_{a,t+1}'),\n",
       "             (wzetaatp1, 'w_{\\\\zeta_a, t+1}'),\n",
       "             (wzetaat, 'w_{\\\\zeta_a, t}'),\n",
       "             (wat, 'w_{a,t}'),\n",
       "             (rhoa, '\\\\rho_{a}'),\n",
       "             (sigmazetaa, '\\\\sigma_{\\\\zeta_a}'),\n",
       "             (mua, '\\\\mu_a'),\n",
       "             (sigmaa, '\\\\sigma_{a}')])"
      ]
     },
     "execution_count": 9,
     "metadata": {},
     "output_type": "execute_result"
    }
   ],
   "source": [
    "latex_dic_xtp1 = collections.OrderedDict({Ctp1:'C_{t+1}',Itp1:'I_{t+1}',Ktp1:'K_{t+1}',Ltp1:'L_{t+1}',Ytp1:'Y_{t+1}',\n",
    "                  atp1:'a_{t+1}', zetaatp1:'\\zeta_{a,t+1}'})\n",
    "latex_dic_xt = collections.OrderedDict({Ct:'C_{t}',It:'I_{t}',Kt:'K_{t}',Lt:'L_{t}',Yt:'Y_{t}',\n",
    "                  at:'a_{t}', zetaat:'\\zeta_{a,t}'})\n",
    "latex_dic_xtm1 = collections.OrderedDict({Ctm1:'C_{t-1}',Itm1:'I_{t-1}',Ktm1:'K_{t-1}',Ltm1:'L_{t-1}',Ytm1:'Y_{t-1}',\n",
    "                  atm1:'a_{t-1}', zetaatm1:'\\zeta_{a,t-1}'})\n",
    "latex_dic_wtp1 = collections.OrderedDict({watp1:'w_{a,t+1}', wzetaatp1:'w_{\\zeta_a, t+1}'})\n",
    "latex_dic_wt = collections.OrderedDict({wat:'w_{a,t}', wzetaat:'w_{\\zeta_a, t}'})\n",
    "latex_dic_param = collections.OrderedDict({mua:'\\mu_a', rhoa:'\\\\rho_{a}',sigmaa:'\\sigma_{a}', sigmazetaa:'\\sigma_{\\zeta_a}'})\n",
    "latex_dic = latex_dic_xtp1\n",
    "latex_dic.update(latex_dic_xt)\n",
    "latex_dic.update(latex_dic_xtm1)\n",
    "latex_dic.update(latex_dic_wtp1)\n",
    "latex_dic.update(latex_dic_wt)\n",
    "latex_dic.update(latex_dic_param)\n",
    "latex_dic"
   ]
  },
  {
   "cell_type": "markdown",
   "metadata": {},
   "source": [
    "### Vectors with variables"
   ]
  },
  {
   "cell_type": "code",
   "execution_count": 10,
   "metadata": {
    "collapsed": false
   },
   "outputs": [
    {
     "name": "stdout",
     "output_type": "stream",
     "text": [
      "\\left [ C_{t+1}, \\quad I_{t+1}, \\quad K_{t+1}, \\quad L_{t+1}, \\quad Y_{t+1}, \\quad a_{t+1}, \\quad \\zeta_{a,t+1}\\right ]\n"
     ]
    }
   ],
   "source": [
    "print(latex(deriv_vars_x_tp1, symbol_names=latex_dic))"
   ]
  },
  {
   "cell_type": "code",
   "execution_count": 11,
   "metadata": {
    "collapsed": false
   },
   "outputs": [
    {
     "name": "stdout",
     "output_type": "stream",
     "text": [
      "\\left [ C_{t}, \\quad I_{t}, \\quad K_{t}, \\quad L_{t}, \\quad Y_{t}, \\quad a_{t}, \\quad \\zeta_{a,t}\\right ]\n"
     ]
    }
   ],
   "source": [
    "print(latex(deriv_vars_x_t, symbol_names=latex_dic))"
   ]
  },
  {
   "cell_type": "code",
   "execution_count": 12,
   "metadata": {
    "collapsed": false
   },
   "outputs": [
    {
     "name": "stdout",
     "output_type": "stream",
     "text": [
      "\\left [ C_{t-1}, \\quad I_{t-1}, \\quad K_{t-1}, \\quad L_{t-1}, \\quad Y_{t-1}, \\quad a_{t-1}, \\quad \\zeta_{a,t-1}\\right ]\n"
     ]
    }
   ],
   "source": [
    "print(latex(deriv_vars_x_tm1, symbol_names=latex_dic))"
   ]
  },
  {
   "cell_type": "code",
   "execution_count": 13,
   "metadata": {
    "collapsed": false
   },
   "outputs": [
    {
     "name": "stdout",
     "output_type": "stream",
     "text": [
      "\\left [ w_{a,t+1}, \\quad w_{\\zeta_a, t+1}\\right ]\n"
     ]
    }
   ],
   "source": [
    "print(latex(deriv_vars_w_tp1, symbol_names=latex_dic))"
   ]
  },
  {
   "cell_type": "code",
   "execution_count": 14,
   "metadata": {
    "collapsed": false
   },
   "outputs": [
    {
     "name": "stdout",
     "output_type": "stream",
     "text": [
      "\\left [ w_{a,t}, \\quad w_{\\zeta_a, t}\\right ]\n"
     ]
    }
   ],
   "source": [
    "print(latex(deriv_vars_w_t, symbol_names=latex_dic))"
   ]
  },
  {
   "cell_type": "markdown",
   "metadata": {},
   "source": [
    "### CIKLYaz eqs, info dating, a leads z"
   ]
  },
  {
   "cell_type": "markdown",
   "metadata": {},
   "source": [
    "#### Vector with equations"
   ]
  },
  {
   "cell_type": "code",
   "execution_count": 15,
   "metadata": {
    "collapsed": false
   },
   "outputs": [
    {
     "name": "stdout",
     "output_type": "stream",
     "text": [
      "\\rho_{a}\n"
     ]
    }
   ],
   "source": [
    "foo = rhoa\n",
    "print(latex(foo, symbol_names={rhoa:'\\\\rho_{a}'}))"
   ]
  },
  {
   "cell_type": "code",
   "execution_count": 16,
   "metadata": {
    "collapsed": false
   },
   "outputs": [
    {
     "name": "stdout",
     "output_type": "stream",
     "text": [
      "\\left[\\begin{matrix}\\frac{Ct \\beta}{Ctp_{1}} \\left(\\left(- \\delta + 1\\right) e^{- at} + \\frac{Ytp_{1} \\alpha}{Kt}\\right) - 1\\\\- \\frac{Lt}{- Lt + 1} + \\frac{Yt \\nu \\left(- \\alpha + 1\\right)}{Ct \\left(- \\nu + 1\\right)}\\\\- Ct - It + Yt\\\\It - Kt + Ktm_{1} \\left(- \\delta + 1\\right) e^{- atm_{1}}\\\\- Ktm_{1}^{\\alpha} Lt^{- \\alpha + 1} e^{- \\alpha atm_{1} + at \\left(- \\alpha + 1\\right)} + Yt\\\\- rhoa zetaatm_{1} - sigmazetaa wzetaat + zetaat\\\\at - mua - sigmaa wat - zetaatm_{1}\\end{matrix}\\right]\n"
     ]
    }
   ],
   "source": [
    "print(latex(gmat_cikly_az_info))"
   ]
  },
  {
   "cell_type": "code",
   "execution_count": 17,
   "metadata": {
    "collapsed": false
   },
   "outputs": [
    {
     "name": "stdout",
     "output_type": "stream",
     "text": [
      "\\left[\\begin{matrix}\\frac{C_{t} \\beta}{C_{t+1}} \\left(\\left(- \\delta + 1\\right) e^{- a_{t}} + \\frac{Y_{t+1} \\alpha}{K_{t}}\\right) - 1\\\\- \\frac{L_{t}}{- L_{t} + 1} + \\frac{Y_{t} \\nu \\left(- \\alpha + 1\\right)}{C_{t} \\left(- \\nu + 1\\right)}\\\\- C_{t} - I_{t} + Y_{t}\\\\I_{t} - K_{t} + K_{t-1} \\left(- \\delta + 1\\right) e^{- a_{t-1}}\\\\- K_{t-1}^{\\alpha} L_{t}^{- \\alpha + 1} e^{- \\alpha a_{t-1} + a_{t} \\left(- \\alpha + 1\\right)} + Y_{t}\\\\- \\rho_{a} \\zeta_{a,t-1} - \\sigma_{\\zeta_a} w_{\\zeta_a, t} + \\zeta_{a,t}\\\\a_{t} - \\mu_a - \\sigma_{a} w_{a,t} - \\zeta_{a,t-1}\\end{matrix}\\right]\n"
     ]
    }
   ],
   "source": [
    "print(latex(gmat_cikly_az_info, symbol_names=latex_dic))"
   ]
  },
  {
   "cell_type": "markdown",
   "metadata": {},
   "source": [
    "\\begin{matrix}\\frac{C_{t} \\beta}{C_{t+1}} \\left(\\left(- \\delta + 1\\right) e^{- a_{t}} + \\frac{Y_{t+1} \\alpha}{K_{t}}\\right) - 1\\\\- \\frac{L_{t}}{- L_{t} + 1} + \\frac{Y_{t} \\nu \\left(- \\alpha + 1\\right)}{C_{t} \\left(- \\nu + 1\\right)}\\\\- C_{t} - I_{t} + Y_{t}\\\\I_{t} - K_{t} + K_{t-1} \\left(- \\delta + 1\\right) e^{- a_{t-1}}\\\\- K_{t-1}^{\\alpha} L_{t}^{- \\alpha + 1} e^{- \\alpha a_{t-1} + a_{t} \\left(- \\alpha + 1\\right)} + Y_{t}\\\\- \\rho_{a} \\zeta_{a,t-1} - \\sigma_{\\zeta_a} w_{\\zeta_a, t} + \\zeta_{a,t}\\\\a_{t} - \\mu_a - \\sigma_{a} w_{a,t} - \\zeta_{a,t-1}\\end{matrix}"
   ]
  },
  {
   "cell_type": "markdown",
   "metadata": {},
   "source": [
    "#### Jacobian w.r.t $x_{t+1}$ :"
   ]
  },
  {
   "cell_type": "code",
   "execution_count": 18,
   "metadata": {
    "collapsed": false
   },
   "outputs": [
    {
     "name": "stdout",
     "output_type": "stream",
     "text": [
      "\\left[\\begin{matrix}- \\frac{C_{t} \\beta}{C_{t+1}^{2}} \\left(\\left(- \\delta + 1\\right) e^{- a_{t}} + \\frac{Y_{t+1} \\alpha}{K_{t}}\\right) & 0 & 0 & 0 & \\frac{C_{t} \\alpha \\beta}{C_{t+1} K_{t}} & 0 & 0\\\\0 & 0 & 0 & 0 & 0 & 0 & 0\\\\0 & 0 & 0 & 0 & 0 & 0 & 0\\\\0 & 0 & 0 & 0 & 0 & 0 & 0\\\\0 & 0 & 0 & 0 & 0 & 0 & 0\\\\0 & 0 & 0 & 0 & 0 & 0 & 0\\\\0 & 0 & 0 & 0 & 0 & 0 & 0\\end{matrix}\\right]\n"
     ]
    }
   ],
   "source": [
    "print(latex(cikly_az_info_d_g_d_xtp1, symbol_names=latex_dic))"
   ]
  },
  {
   "cell_type": "markdown",
   "metadata": {},
   "source": [
    "#### Jacobian w.r.t $x_{t}$ :"
   ]
  },
  {
   "cell_type": "code",
   "execution_count": 19,
   "metadata": {
    "collapsed": false
   },
   "outputs": [
    {
     "name": "stdout",
     "output_type": "stream",
     "text": [
      "\\left[\\begin{matrix}\\frac{\\beta}{C_{t+1}} \\left(\\left(- \\delta + 1\\right) e^{- a_{t}} + \\frac{Y_{t+1} \\alpha}{K_{t}}\\right) & 0 & - \\frac{C_{t} Y_{t+1} \\alpha \\beta}{C_{t+1} K_{t}^{2}} & 0 & 0 & - \\frac{C_{t} \\beta}{C_{t+1}} \\left(- \\delta + 1\\right) e^{- a_{t}} & 0\\\\- \\frac{Y_{t} \\nu \\left(- \\alpha + 1\\right)}{C_{t}^{2} \\left(- \\nu + 1\\right)} & 0 & 0 & - \\frac{L_{t}}{\\left(- L_{t} + 1\\right)^{2}} - \\frac{1}{- L_{t} + 1} & \\frac{\\nu \\left(- \\alpha + 1\\right)}{C_{t} \\left(- \\nu + 1\\right)} & 0 & 0\\\\-1 & -1 & 0 & 0 & 1 & 0 & 0\\\\0 & 1 & -1 & 0 & 0 & 0 & 0\\\\0 & 0 & 0 & - \\frac{K_{t-1}^{\\alpha}}{L_{t}} L_{t}^{- \\alpha + 1} \\left(- \\alpha + 1\\right) e^{- \\alpha a_{t-1} + a_{t} \\left(- \\alpha + 1\\right)} & 1 & - K_{t-1}^{\\alpha} L_{t}^{- \\alpha + 1} \\left(- \\alpha + 1\\right) e^{- \\alpha a_{t-1} + a_{t} \\left(- \\alpha + 1\\right)} & 0\\\\0 & 0 & 0 & 0 & 0 & 0 & 1\\\\0 & 0 & 0 & 0 & 0 & 1 & 0\\end{matrix}\\right]\n"
     ]
    }
   ],
   "source": [
    "print(latex(cikly_az_info_d_g_d_xt, symbol_names=latex_dic))"
   ]
  },
  {
   "cell_type": "markdown",
   "metadata": {},
   "source": [
    "\\begin{matrix}\\frac{\\beta}{C_{t+1}} \\left(\\left(- \\delta + 1\\right) e^{- a_{t}} + \\frac{Y_{t+1} \\alpha}{K_{t}}\\right) & 0 & - \\frac{C_{t} Y_{t+1} \\alpha \\beta}{C_{t+1} K_{t}^{2}} & 0 & 0 & - \\frac{C_{t} \\beta}{C_{t+1}} \\left(- \\delta + 1\\right) e^{- a_{t}} & 0\\\\- \\frac{Y_{t} \\nu \\left(- \\alpha + 1\\right)}{C_{t}^{2} \\left(- \\nu + 1\\right)} & 0 & 0 & - \\frac{L_{t}}{\\left(- L_{t} + 1\\right)^{2}} - \\frac{1}{- L_{t} + 1} & \\frac{\\nu \\left(- \\alpha + 1\\right)}{C_{t} \\left(- \\nu + 1\\right)} & 0 & 0\\\\-1 & -1 & 0 & 0 & 1 & 0 & 0\\\\0 & 1 & -1 & 0 & 0 & 0 & 0\\\\0 & 0 & 0 & - \\frac{K_{t-1}^{\\alpha}}{L_{t}} L_{t}^{- \\alpha + 1} \\left(- \\alpha + 1\\right) e^{- \\alpha a_{t-1} + a_{t} \\left(- \\alpha + 1\\right)} & 1 & - K_{t-1}^{\\alpha} L_{t}^{- \\alpha + 1} \\left(- \\alpha + 1\\right) e^{- \\alpha a_{t-1} + a_{t} \\left(- \\alpha + 1\\right)} & 0\\\\0 & 0 & 0 & 0 & 0 & 0 & 1\\\\0 & 0 & 0 & 0 & 0 & 1 & 0\\end{matrix}"
   ]
  },
  {
   "cell_type": "markdown",
   "metadata": {},
   "source": [
    "#### Jacobian w.r.t $x_{t-1}$ :"
   ]
  },
  {
   "cell_type": "code",
   "execution_count": 20,
   "metadata": {
    "collapsed": false
   },
   "outputs": [
    {
     "name": "stdout",
     "output_type": "stream",
     "text": [
      "\\left[\\begin{matrix}0 & 0 & 0 & 0 & 0 & 0 & 0\\\\0 & 0 & 0 & 0 & 0 & 0 & 0\\\\0 & 0 & 0 & 0 & 0 & 0 & 0\\\\0 & 0 & \\left(- \\delta + 1\\right) e^{- a_{t-1}} & 0 & 0 & - K_{t-1} \\left(- \\delta + 1\\right) e^{- a_{t-1}} & 0\\\\0 & 0 & - \\frac{K_{t-1}^{\\alpha} \\alpha}{K_{t-1}} L_{t}^{- \\alpha + 1} e^{- \\alpha a_{t-1} + a_{t} \\left(- \\alpha + 1\\right)} & 0 & 0 & K_{t-1}^{\\alpha} L_{t}^{- \\alpha + 1} \\alpha e^{- \\alpha a_{t-1} + a_{t} \\left(- \\alpha + 1\\right)} & 0\\\\0 & 0 & 0 & 0 & 0 & 0 & - \\rho_{a}\\\\0 & 0 & 0 & 0 & 0 & 0 & -1\\end{matrix}\\right]\n"
     ]
    }
   ],
   "source": [
    "print(latex(cikly_az_info_d_g_d_xtm1, symbol_names=latex_dic))"
   ]
  },
  {
   "cell_type": "markdown",
   "metadata": {},
   "source": [
    "\\begin{matrix}0 & 0 & 0 & 0 & 0 & 0 & 0\\\\0 & 0 & 0 & 0 & 0 & 0 & 0\\\\0 & 0 & 0 & 0 & 0 & 0 & 0\\\\0 & 0 & \\left(- \\delta + 1\\right) e^{- a_{t-1}} & 0 & 0 & - K_{t-1} \\left(- \\delta + 1\\right) e^{- a_{t-1}} & 0\\\\0 & 0 & - \\frac{K_{t-1}^{\\alpha} \\alpha}{K_{t-1}} L_{t}^{- \\alpha + 1} e^{- \\alpha a_{t-1} + a_{t} \\left(- \\alpha + 1\\right)} & 0 & 0 & K_{t-1}^{\\alpha} L_{t}^{- \\alpha + 1} \\alpha e^{- \\alpha a_{t-1} + a_{t} \\left(- \\alpha + 1\\right)} & 0\\\\0 & 0 & 0 & 0 & 0 & 0 & - \\rho_{a}\\\\0 & 0 & 0 & 0 & 0 & 0 & -1\\end{matrix}"
   ]
  },
  {
   "cell_type": "markdown",
   "metadata": {},
   "source": [
    "#### Jacobian w.r.t $w_{t+1}$ :"
   ]
  },
  {
   "cell_type": "code",
   "execution_count": 21,
   "metadata": {
    "collapsed": false
   },
   "outputs": [
    {
     "name": "stdout",
     "output_type": "stream",
     "text": [
      "\\left[\\begin{matrix}0 & 0\\\\0 & 0\\\\0 & 0\\\\0 & 0\\\\0 & 0\\\\0 & 0\\\\0 & 0\\end{matrix}\\right]\n"
     ]
    }
   ],
   "source": [
    "print(latex(cikly_az_info_d_g_d_wtp1, symbol_names=latex_dic))"
   ]
  },
  {
   "cell_type": "markdown",
   "metadata": {},
   "source": [
    "#### Jacobian w.r.t $w_{t}$ :"
   ]
  },
  {
   "cell_type": "code",
   "execution_count": 22,
   "metadata": {
    "collapsed": false
   },
   "outputs": [
    {
     "name": "stdout",
     "output_type": "stream",
     "text": [
      "\\left[\\begin{matrix}0 & 0\\\\0 & 0\\\\0 & 0\\\\0 & 0\\\\0 & 0\\\\0 & - \\sigma_{\\zeta_a}\\\\- \\sigma_{a} & 0\\end{matrix}\\right]\n"
     ]
    }
   ],
   "source": [
    "print(latex(cikly_az_info_d_g_d_wt, symbol_names=latex_dic))"
   ]
  },
  {
   "cell_type": "markdown",
   "metadata": {},
   "source": [
    "\\begin{matrix}0 & 0\\\\0 & 0\\\\0 & 0\\\\0 & 0\\\\0 & 0\\\\0 & - \\sigma_{\\zeta_a}\\\\- \\sigma_{a} & 0\\end{matrix}"
   ]
  },
  {
   "cell_type": "markdown",
   "metadata": {},
   "source": [
    "### CIKLYaz eqs, use dating, a leads z"
   ]
  },
  {
   "cell_type": "markdown",
   "metadata": {},
   "source": [
    "#### Vector with equations"
   ]
  },
  {
   "cell_type": "code",
   "execution_count": 23,
   "metadata": {
    "collapsed": false
   },
   "outputs": [
    {
     "name": "stdout",
     "output_type": "stream",
     "text": [
      "\\left[\\begin{matrix}\\frac{C_{t} \\beta}{C_{t+1}} \\left(- \\delta + 1 + \\frac{Y_{t+1} \\alpha}{K_{t+1}}\\right) e^{- a_{t}} - 1\\\\- \\frac{L_{t}}{- L_{t} + 1} + \\frac{Y_{t} \\nu \\left(- \\alpha + 1\\right)}{C_{t} \\left(- \\nu + 1\\right)}\\\\- C_{t} - I_{t} + Y_{t}\\\\I_{t} + K_{t} \\left(- \\delta + 1\\right) - K_{t+1} e^{a_{t}}\\\\- K_{t}^{\\alpha} L_{t}^{- \\alpha + 1} e^{a_{t} \\left(- \\alpha + 1\\right)} + Y_{t}\\\\- \\rho_{a} \\zeta_{a,t-1} - \\sigma_{\\zeta_a} w_{\\zeta_a, t} + \\zeta_{a,t}\\\\a_{t} - \\mu_a - \\sigma_{a} w_{a,t} - \\zeta_{a,t-1}\\end{matrix}\\right]\n"
     ]
    }
   ],
   "source": [
    "print(latex(gmat_cikly_az_use, symbol_names=latex_dic))"
   ]
  },
  {
   "cell_type": "markdown",
   "metadata": {},
   "source": [
    "\\begin{matrix}\\frac{C_{t} \\beta}{C_{t+1}} \\left(- \\delta + 1 + \\frac{Y_{t+1} \\alpha}{K_{t+1}}\\right) e^{- a_{t}} - 1\\\\- \\frac{L_{t}}{- L_{t} + 1} + \\frac{Y_{t} \\nu \\left(- \\alpha + 1\\right)}{C_{t} \\left(- \\nu + 1\\right)}\\\\- C_{t} - I_{t} + Y_{t}\\\\I_{t} + K_{t} \\left(- \\delta + 1\\right) - K_{t+1} e^{a_{t}}\\\\- K_{t}^{\\alpha} L_{t}^{- \\alpha + 1} e^{a_{t} \\left(- \\alpha + 1\\right)} + Y_{t}\\\\- \\rho_{a} \\zeta_{a,t-1} - \\sigma_{\\zeta_a} w_{\\zeta_a, t} + \\zeta_{a,t}\\\\a_{t} - \\mu_a - \\sigma_{a} w_{a,t} - \\zeta_{a,t-1}\\end{matrix}"
   ]
  },
  {
   "cell_type": "markdown",
   "metadata": {},
   "source": [
    "#### Jacobian w.r.t $x_{t+1}$ :"
   ]
  },
  {
   "cell_type": "code",
   "execution_count": 24,
   "metadata": {
    "collapsed": false
   },
   "outputs": [
    {
     "name": "stdout",
     "output_type": "stream",
     "text": [
      "\\left[\\begin{matrix}- \\frac{C_{t} \\beta}{C_{t+1}^{2}} \\left(- \\delta + 1 + \\frac{Y_{t+1} \\alpha}{K_{t+1}}\\right) e^{- a_{t}} & 0 & - \\frac{C_{t} Y_{t+1} \\alpha \\beta}{C_{t+1} K_{t+1}^{2}} e^{- a_{t}} & 0 & \\frac{C_{t} \\alpha \\beta}{C_{t+1} K_{t+1}} e^{- a_{t}} & 0 & 0\\\\0 & 0 & 0 & 0 & 0 & 0 & 0\\\\0 & 0 & 0 & 0 & 0 & 0 & 0\\\\0 & 0 & - e^{a_{t}} & 0 & 0 & 0 & 0\\\\0 & 0 & 0 & 0 & 0 & 0 & 0\\\\0 & 0 & 0 & 0 & 0 & 0 & 0\\\\0 & 0 & 0 & 0 & 0 & 0 & 0\\end{matrix}\\right]\n"
     ]
    }
   ],
   "source": [
    "print(latex(cikly_az_use_d_g_d_xtp1, symbol_names=latex_dic))"
   ]
  },
  {
   "cell_type": "markdown",
   "metadata": {},
   "source": [
    "\\begin{matrix}- \\frac{C_{t} \\beta}{C_{t+1}^{2}} \\left(- \\delta + 1 + \\frac{Y_{t+1} \\alpha}{K_{t+1}}\\right) e^{- a_{t}} & 0 & - \\frac{C_{t} Y_{t+1} \\alpha \\beta}{C_{t+1} K_{t+1}^{2}} e^{- a_{t}} & 0 & \\frac{C_{t} \\alpha \\beta}{C_{t+1} K_{t+1}} e^{- a_{t}} & 0 & 0\\\\0 & 0 & 0 & 0 & 0 & 0 & 0\\\\0 & 0 & 0 & 0 & 0 & 0 & 0\\\\0 & 0 & - e^{a_{t}} & 0 & 0 & 0 & 0\\\\0 & 0 & 0 & 0 & 0 & 0 & 0\\\\0 & 0 & 0 & 0 & 0 & 0 & 0\\\\0 & 0 & 0 & 0 & 0 & 0 & 0\\end{matrix}"
   ]
  },
  {
   "cell_type": "markdown",
   "metadata": {},
   "source": [
    "#### Jacobian w.r.t $x_{t}$ :"
   ]
  },
  {
   "cell_type": "code",
   "execution_count": 25,
   "metadata": {
    "collapsed": false
   },
   "outputs": [
    {
     "name": "stdout",
     "output_type": "stream",
     "text": [
      "\\left[\\begin{matrix}\\frac{\\beta}{C_{t+1}} \\left(- \\delta + 1 + \\frac{Y_{t+1} \\alpha}{K_{t+1}}\\right) e^{- a_{t}} & 0 & 0 & 0 & 0 & - \\frac{C_{t} \\beta}{C_{t+1}} \\left(- \\delta + 1 + \\frac{Y_{t+1} \\alpha}{K_{t+1}}\\right) e^{- a_{t}} & 0\\\\- \\frac{Y_{t} \\nu \\left(- \\alpha + 1\\right)}{C_{t}^{2} \\left(- \\nu + 1\\right)} & 0 & 0 & - \\frac{L_{t}}{\\left(- L_{t} + 1\\right)^{2}} - \\frac{1}{- L_{t} + 1} & \\frac{\\nu \\left(- \\alpha + 1\\right)}{C_{t} \\left(- \\nu + 1\\right)} & 0 & 0\\\\-1 & -1 & 0 & 0 & 1 & 0 & 0\\\\0 & 1 & - \\delta + 1 & 0 & 0 & - K_{t+1} e^{a_{t}} & 0\\\\0 & 0 & - \\frac{K_{t}^{\\alpha} \\alpha}{K_{t}} L_{t}^{- \\alpha + 1} e^{a_{t} \\left(- \\alpha + 1\\right)} & - \\frac{K_{t}^{\\alpha}}{L_{t}} L_{t}^{- \\alpha + 1} \\left(- \\alpha + 1\\right) e^{a_{t} \\left(- \\alpha + 1\\right)} & 1 & - K_{t}^{\\alpha} L_{t}^{- \\alpha + 1} \\left(- \\alpha + 1\\right) e^{a_{t} \\left(- \\alpha + 1\\right)} & 0\\\\0 & 0 & 0 & 0 & 0 & 0 & 1\\\\0 & 0 & 0 & 0 & 0 & 1 & 0\\end{matrix}\\right]\n"
     ]
    }
   ],
   "source": [
    "print(latex(cikly_az_use_d_g_d_xt, symbol_names=latex_dic))"
   ]
  },
  {
   "cell_type": "markdown",
   "metadata": {},
   "source": [
    "\\begin{matrix}\\frac{\\beta}{C_{t+1}} \\left(- \\delta + 1 + \\frac{Y_{t+1} \\alpha}{K_{t+1}}\\right) e^{- a_{t}} & 0 & 0 & 0 & 0 & - \\frac{C_{t} \\beta}{C_{t+1}} \\left(- \\delta + 1 + \\frac{Y_{t+1} \\alpha}{K_{t+1}}\\right) e^{- a_{t}} & 0\\\\- \\frac{Y_{t} \\nu \\left(- \\alpha + 1\\right)}{C_{t}^{2} \\left(- \\nu + 1\\right)} & 0 & 0 & - \\frac{L_{t}}{\\left(- L_{t} + 1\\right)^{2}} - \\frac{1}{- L_{t} + 1} & \\frac{\\nu \\left(- \\alpha + 1\\right)}{C_{t} \\left(- \\nu + 1\\right)} & 0 & 0\\\\-1 & -1 & 0 & 0 & 1 & 0 & 0\\\\0 & 1 & - \\delta + 1 & 0 & 0 & - K_{t+1} e^{a_{t}} & 0\\\\0 & 0 & - \\frac{K_{t}^{\\alpha} \\alpha}{K_{t}} L_{t}^{- \\alpha + 1} e^{a_{t} \\left(- \\alpha + 1\\right)} & - \\frac{K_{t}^{\\alpha}}{L_{t}} L_{t}^{- \\alpha + 1} \\left(- \\alpha + 1\\right) e^{a_{t} \\left(- \\alpha + 1\\right)} & 1 & - K_{t}^{\\alpha} L_{t}^{- \\alpha + 1} \\left(- \\alpha + 1\\right) e^{a_{t} \\left(- \\alpha + 1\\right)} & 0\\\\0 & 0 & 0 & 0 & 0 & 0 & 1\\\\0 & 0 & 0 & 0 & 0 & 1 & 0\\end{matrix}"
   ]
  },
  {
   "cell_type": "markdown",
   "metadata": {},
   "source": [
    "#### Jacobian w.r.t $x_{t-1}$ :"
   ]
  },
  {
   "cell_type": "code",
   "execution_count": 26,
   "metadata": {
    "collapsed": false
   },
   "outputs": [
    {
     "name": "stdout",
     "output_type": "stream",
     "text": [
      "\\left[\\begin{matrix}0 & 0 & 0 & 0 & 0 & 0 & 0\\\\0 & 0 & 0 & 0 & 0 & 0 & 0\\\\0 & 0 & 0 & 0 & 0 & 0 & 0\\\\0 & 0 & 0 & 0 & 0 & 0 & 0\\\\0 & 0 & 0 & 0 & 0 & 0 & 0\\\\0 & 0 & 0 & 0 & 0 & 0 & - \\rho_{a}\\\\0 & 0 & 0 & 0 & 0 & 0 & -1\\end{matrix}\\right]\n"
     ]
    }
   ],
   "source": [
    "print(latex(cikly_az_use_d_g_d_xtm1, symbol_names=latex_dic))"
   ]
  },
  {
   "cell_type": "markdown",
   "metadata": {},
   "source": [
    "\\begin{matrix}0 & 0 & 0 & 0 & 0 & 0 & 0\\\\0 & 0 & 0 & 0 & 0 & 0 & 0\\\\0 & 0 & 0 & 0 & 0 & 0 & 0\\\\0 & 0 & 0 & 0 & 0 & 0 & 0\\\\0 & 0 & 0 & 0 & 0 & 0 & 0\\\\0 & 0 & 0 & 0 & 0 & 0 & - \\rho_{a}\\\\0 & 0 & 0 & 0 & 0 & 0 & -1\\end{matrix}"
   ]
  },
  {
   "cell_type": "markdown",
   "metadata": {},
   "source": [
    "#### Jacobian w.r.t $w_{t+1}$ :"
   ]
  },
  {
   "cell_type": "code",
   "execution_count": 27,
   "metadata": {
    "collapsed": false
   },
   "outputs": [
    {
     "name": "stdout",
     "output_type": "stream",
     "text": [
      "\\left[\\begin{matrix}0 & 0\\\\0 & 0\\\\0 & 0\\\\0 & 0\\\\0 & 0\\\\0 & 0\\\\0 & 0\\end{matrix}\\right]\n"
     ]
    }
   ],
   "source": [
    "print(latex(cikly_az_use_d_g_d_wtp1, symbol_names=latex_dic))"
   ]
  },
  {
   "cell_type": "markdown",
   "metadata": {},
   "source": [
    "\\begin{matrix}0 & 0\\\\0 & 0\\\\0 & 0\\\\0 & 0\\\\0 & 0\\\\0 & 0\\\\0 & 0\\end{matrix}"
   ]
  },
  {
   "cell_type": "markdown",
   "metadata": {},
   "source": [
    "#### Jacobian w.r.t $w_{t}$ :"
   ]
  },
  {
   "cell_type": "code",
   "execution_count": 28,
   "metadata": {
    "collapsed": false
   },
   "outputs": [
    {
     "name": "stdout",
     "output_type": "stream",
     "text": [
      "\\left[\\begin{matrix}0 & 0\\\\0 & 0\\\\0 & 0\\\\0 & 0\\\\0 & 0\\\\0 & - \\sigma_{\\zeta_a}\\\\- \\sigma_{a} & 0\\end{matrix}\\right]\n"
     ]
    }
   ],
   "source": [
    "print(latex(cikly_az_use_d_g_d_wt, symbol_names=latex_dic))"
   ]
  },
  {
   "cell_type": "markdown",
   "metadata": {},
   "source": [
    "\\begin{matrix}0 & 0\\\\0 & 0\\\\0 & 0\\\\0 & 0\\\\0 & 0\\\\0 & - \\sigma_{\\zeta_a}\\\\- \\sigma_{a} & 0\\end{matrix}"
   ]
  },
  {
   "cell_type": "markdown",
   "metadata": {},
   "source": [
    "### CIKLYaz eqs, info dating, a contemporary z"
   ]
  },
  {
   "cell_type": "code",
   "execution_count": 29,
   "metadata": {
    "collapsed": false
   },
   "outputs": [
    {
     "name": "stdout",
     "output_type": "stream",
     "text": [
      "\\left[\\begin{matrix}\\frac{C_{t} \\beta}{C_{t+1}} \\left(\\left(- \\delta + 1\\right) e^{- a_{t}} + \\frac{Y_{t+1} \\alpha}{K_{t}}\\right) - 1\\\\- \\frac{L_{t}}{- L_{t} + 1} + \\frac{Y_{t} \\nu \\left(- \\alpha + 1\\right)}{C_{t} \\left(- \\nu + 1\\right)}\\\\- C_{t} - I_{t} + Y_{t}\\\\I_{t} - K_{t} + K_{t-1} \\left(- \\delta + 1\\right) e^{- a_{t-1}}\\\\- K_{t-1}^{\\alpha} L_{t}^{- \\alpha + 1} e^{- \\alpha a_{t-1} + a_{t} \\left(- \\alpha + 1\\right)} + Y_{t}\\\\- \\rho_{a} \\zeta_{a,t-1} - \\sigma_{\\zeta_a} w_{\\zeta_a, t} + \\zeta_{a,t}\\\\a_{t} - \\mu_a - \\sigma_{a} w_{a,t} - \\zeta_{a,t}\\end{matrix}\\right]\n"
     ]
    }
   ],
   "source": [
    "print(latex(gmat_cikly_az_info_conte, symbol_names=latex_dic))"
   ]
  },
  {
   "cell_type": "markdown",
   "metadata": {},
   "source": [
    "\\begin{matrix}\\frac{C_{t} \\beta}{C_{t+1}} \\left(\\left(- \\delta + 1\\right) e^{- a_{t}} + \\frac{Y_{t+1} \\alpha}{K_{t}}\\right) - 1\\\\- \\frac{L_{t}}{- L_{t} + 1} + \\frac{Y_{t} \\nu \\left(- \\alpha + 1\\right)}{C_{t} \\left(- \\nu + 1\\right)}\\\\- C_{t} - I_{t} + Y_{t}\\\\I_{t} - K_{t} + K_{t-1} \\left(- \\delta + 1\\right) e^{- a_{t-1}}\\\\- K_{t-1}^{\\alpha} L_{t}^{- \\alpha + 1} e^{- \\alpha a_{t-1} + a_{t} \\left(- \\alpha + 1\\right)} + Y_{t}\\\\- \\rho_{a} \\zeta_{a,t-1} - \\sigma_{\\zeta_a} w_{\\zeta_a, t} + \\zeta_{a,t}\\\\a_{t} - \\mu_a - \\sigma_{a} w_{a,t} - \\zeta_{a,t}\\end{matrix}"
   ]
  },
  {
   "cell_type": "code",
   "execution_count": 30,
   "metadata": {
    "collapsed": false
   },
   "outputs": [
    {
     "name": "stdout",
     "output_type": "stream",
     "text": [
      "\\left[\\begin{matrix}- \\frac{C_{t} \\beta}{C_{t+1}^{2}} \\left(\\left(- \\delta + 1\\right) e^{- a_{t}} + \\frac{Y_{t+1} \\alpha}{K_{t}}\\right) & 0 & 0 & 0 & \\frac{C_{t} \\alpha \\beta}{C_{t+1} K_{t}} & 0 & 0\\\\0 & 0 & 0 & 0 & 0 & 0 & 0\\\\0 & 0 & 0 & 0 & 0 & 0 & 0\\\\0 & 0 & 0 & 0 & 0 & 0 & 0\\\\0 & 0 & 0 & 0 & 0 & 0 & 0\\\\0 & 0 & 0 & 0 & 0 & 0 & 0\\\\0 & 0 & 0 & 0 & 0 & 0 & 0\\end{matrix}\\right]\n"
     ]
    }
   ],
   "source": [
    "print(latex(cikly_az_info_conte_d_g_d_xtp1, symbol_names=latex_dic))"
   ]
  },
  {
   "cell_type": "code",
   "execution_count": 31,
   "metadata": {
    "collapsed": false
   },
   "outputs": [
    {
     "name": "stdout",
     "output_type": "stream",
     "text": [
      "\\left[\\begin{matrix}\\frac{\\beta}{C_{t+1}} \\left(\\left(- \\delta + 1\\right) e^{- a_{t}} + \\frac{Y_{t+1} \\alpha}{K_{t}}\\right) & 0 & - \\frac{C_{t} Y_{t+1} \\alpha \\beta}{C_{t+1} K_{t}^{2}} & 0 & 0 & - \\frac{C_{t} \\beta}{C_{t+1}} \\left(- \\delta + 1\\right) e^{- a_{t}} & 0\\\\- \\frac{Y_{t} \\nu \\left(- \\alpha + 1\\right)}{C_{t}^{2} \\left(- \\nu + 1\\right)} & 0 & 0 & - \\frac{L_{t}}{\\left(- L_{t} + 1\\right)^{2}} - \\frac{1}{- L_{t} + 1} & \\frac{\\nu \\left(- \\alpha + 1\\right)}{C_{t} \\left(- \\nu + 1\\right)} & 0 & 0\\\\-1 & -1 & 0 & 0 & 1 & 0 & 0\\\\0 & 1 & -1 & 0 & 0 & 0 & 0\\\\0 & 0 & 0 & - \\frac{K_{t-1}^{\\alpha}}{L_{t}} L_{t}^{- \\alpha + 1} \\left(- \\alpha + 1\\right) e^{- \\alpha a_{t-1} + a_{t} \\left(- \\alpha + 1\\right)} & 1 & - K_{t-1}^{\\alpha} L_{t}^{- \\alpha + 1} \\left(- \\alpha + 1\\right) e^{- \\alpha a_{t-1} + a_{t} \\left(- \\alpha + 1\\right)} & 0\\\\0 & 0 & 0 & 0 & 0 & 0 & 1\\\\0 & 0 & 0 & 0 & 0 & 1 & -1\\end{matrix}\\right]\n"
     ]
    }
   ],
   "source": [
    "print(latex(cikly_az_info_conte_d_g_d_xt, symbol_names=latex_dic))"
   ]
  },
  {
   "cell_type": "markdown",
   "metadata": {},
   "source": [
    "\\begin{matrix}\\frac{\\beta}{C_{t+1}} \\left(\\left(- \\delta + 1\\right) e^{- a_{t}} + \\frac{Y_{t+1} \\alpha}{K_{t}}\\right) & 0 & - \\frac{C_{t} Y_{t+1} \\alpha \\beta}{C_{t+1} K_{t}^{2}} & 0 & 0 & - \\frac{C_{t} \\beta}{C_{t+1}} \\left(- \\delta + 1\\right) e^{- a_{t}} & 0\\\\- \\frac{Y_{t} \\nu \\left(- \\alpha + 1\\right)}{C_{t}^{2} \\left(- \\nu + 1\\right)} & 0 & 0 & - \\frac{L_{t}}{\\left(- L_{t} + 1\\right)^{2}} - \\frac{1}{- L_{t} + 1} & \\frac{\\nu \\left(- \\alpha + 1\\right)}{C_{t} \\left(- \\nu + 1\\right)} & 0 & 0\\\\-1 & -1 & 0 & 0 & 1 & 0 & 0\\\\0 & 1 & -1 & 0 & 0 & 0 & 0\\\\0 & 0 & 0 & - \\frac{K_{t-1}^{\\alpha}}{L_{t}} L_{t}^{- \\alpha + 1} \\left(- \\alpha + 1\\right) e^{- \\alpha a_{t-1} + a_{t} \\left(- \\alpha + 1\\right)} & 1 & - K_{t-1}^{\\alpha} L_{t}^{- \\alpha + 1} \\left(- \\alpha + 1\\right) e^{- \\alpha a_{t-1} + a_{t} \\left(- \\alpha + 1\\right)} & 0\\\\0 & 0 & 0 & 0 & 0 & 0 & 1\\\\0 & 0 & 0 & 0 & 0 & 1 & -1\\end{matrix}"
   ]
  },
  {
   "cell_type": "code",
   "execution_count": 32,
   "metadata": {
    "collapsed": false
   },
   "outputs": [
    {
     "name": "stdout",
     "output_type": "stream",
     "text": [
      "\\left[\\begin{matrix}0 & 0 & 0 & 0 & 0 & 0 & 0\\\\0 & 0 & 0 & 0 & 0 & 0 & 0\\\\0 & 0 & 0 & 0 & 0 & 0 & 0\\\\0 & 0 & \\left(- \\delta + 1\\right) e^{- a_{t-1}} & 0 & 0 & - K_{t-1} \\left(- \\delta + 1\\right) e^{- a_{t-1}} & 0\\\\0 & 0 & - \\frac{K_{t-1}^{\\alpha} \\alpha}{K_{t-1}} L_{t}^{- \\alpha + 1} e^{- \\alpha a_{t-1} + a_{t} \\left(- \\alpha + 1\\right)} & 0 & 0 & K_{t-1}^{\\alpha} L_{t}^{- \\alpha + 1} \\alpha e^{- \\alpha a_{t-1} + a_{t} \\left(- \\alpha + 1\\right)} & 0\\\\0 & 0 & 0 & 0 & 0 & 0 & - \\rho_{a}\\\\0 & 0 & 0 & 0 & 0 & 0 & 0\\end{matrix}\\right]\n"
     ]
    }
   ],
   "source": [
    "print(latex(cikly_az_info_conte_d_g_d_xtm1, symbol_names=latex_dic))"
   ]
  },
  {
   "cell_type": "markdown",
   "metadata": {},
   "source": [
    "\\begin{matrix}0 & 0 & 0 & 0 & 0 & 0 & 0\\\\0 & 0 & 0 & 0 & 0 & 0 & 0\\\\0 & 0 & 0 & 0 & 0 & 0 & 0\\\\0 & 0 & \\left(- \\delta + 1\\right) e^{- a_{t-1}} & 0 & 0 & - K_{t-1} \\left(- \\delta + 1\\right) e^{- a_{t-1}} & 0\\\\0 & 0 & - \\frac{K_{t-1}^{\\alpha} \\alpha}{K_{t-1}} L_{t}^{- \\alpha + 1} e^{- \\alpha a_{t-1} + a_{t} \\left(- \\alpha + 1\\right)} & 0 & 0 & K_{t-1}^{\\alpha} L_{t}^{- \\alpha + 1} \\alpha e^{- \\alpha a_{t-1} + a_{t} \\left(- \\alpha + 1\\right)} & 0\\\\0 & 0 & 0 & 0 & 0 & 0 & - \\rho_{a}\\\\0 & 0 & 0 & 0 & 0 & 0 & 0\\end{matrix}"
   ]
  },
  {
   "cell_type": "code",
   "execution_count": 33,
   "metadata": {
    "collapsed": false
   },
   "outputs": [
    {
     "name": "stdout",
     "output_type": "stream",
     "text": [
      "\\left[\\begin{matrix}0 & 0\\\\0 & 0\\\\0 & 0\\\\0 & 0\\\\0 & 0\\\\0 & 0\\\\0 & 0\\end{matrix}\\right]\n"
     ]
    }
   ],
   "source": [
    "print(latex(cikly_az_info_conte_d_g_d_wtp1, symbol_names=latex_dic))"
   ]
  },
  {
   "cell_type": "markdown",
   "metadata": {},
   "source": [
    "\\left[\\begin{matrix}0 & 0\\\\0 & 0\\\\0 & 0\\\\0 & 0\\\\0 & 0\\\\0 & 0\\\\0 & 0\\end{matrix}\\right]"
   ]
  },
  {
   "cell_type": "code",
   "execution_count": 34,
   "metadata": {
    "collapsed": false
   },
   "outputs": [
    {
     "name": "stdout",
     "output_type": "stream",
     "text": [
      "\\left[\\begin{matrix}0 & 0\\\\0 & 0\\\\0 & 0\\\\0 & 0\\\\0 & 0\\\\0 & - \\sigma_{\\zeta_a}\\\\- \\sigma_{a} & 0\\end{matrix}\\right]\n"
     ]
    }
   ],
   "source": [
    "print(latex(cikly_az_info_conte_d_g_d_wt, symbol_names=latex_dic))"
   ]
  },
  {
   "cell_type": "markdown",
   "metadata": {},
   "source": [
    "\\begin{matrix}0 & 0\\\\0 & 0\\\\0 & 0\\\\0 & 0\\\\0 & 0\\\\0 & - \\sigma_{\\zeta_a}\\\\- \\sigma_{a} & 0\\end{matrix}"
   ]
  },
  {
   "cell_type": "markdown",
   "metadata": {},
   "source": [
    "### CIKLYaz eqs, use dating, a contemporary z"
   ]
  },
  {
   "cell_type": "code",
   "execution_count": 35,
   "metadata": {
    "collapsed": false
   },
   "outputs": [
    {
     "name": "stdout",
     "output_type": "stream",
     "text": [
      "\\left[\\begin{matrix}\\frac{C_{t} \\beta}{C_{t+1}} \\left(- \\delta + 1 + \\frac{Y_{t+1} \\alpha}{K_{t+1}}\\right) e^{- a_{t}} - 1\\\\- \\frac{L_{t}}{- L_{t} + 1} + \\frac{Y_{t} \\nu \\left(- \\alpha + 1\\right)}{C_{t} \\left(- \\nu + 1\\right)}\\\\- C_{t} - I_{t} + Y_{t}\\\\I_{t} + K_{t} \\left(- \\delta + 1\\right) - K_{t+1} e^{a_{t}}\\\\- K_{t}^{\\alpha} L_{t}^{- \\alpha + 1} e^{a_{t} \\left(- \\alpha + 1\\right)} + Y_{t}\\\\- \\rho_{a} \\zeta_{a,t-1} - \\sigma_{\\zeta_a} w_{\\zeta_a, t} + \\zeta_{a,t}\\\\a_{t} - \\mu_a - \\sigma_{a} w_{a,t} - \\zeta_{a,t}\\end{matrix}\\right]\n"
     ]
    }
   ],
   "source": [
    "print(latex(gmat_cikly_az_use_conte, symbol_names=latex_dic))"
   ]
  },
  {
   "cell_type": "markdown",
   "metadata": {},
   "source": [
    "\\begin{matrix}\\frac{C_{t} \\beta}{C_{t+1}} \\left(- \\delta + 1 + \\frac{Y_{t+1} \\alpha}{K_{t+1}}\\right) e^{- a_{t}} - 1\\\\- \\frac{L_{t}}{- L_{t} + 1} + \\frac{Y_{t} \\nu \\left(- \\alpha + 1\\right)}{C_{t} \\left(- \\nu + 1\\right)}\\\\- C_{t} - I_{t} + Y_{t}\\\\I_{t} + K_{t} \\left(- \\delta + 1\\right) - K_{t+1} e^{a_{t}}\\\\- K_{t}^{\\alpha} L_{t}^{- \\alpha + 1} e^{a_{t} \\left(- \\alpha + 1\\right)} + Y_{t}\\\\- \\rho_{a} \\zeta_{a,t-1} - \\sigma_{\\zeta_a} w_{\\zeta_a, t} + \\zeta_{a,t}\\\\a_{t} - \\mu_a - \\sigma_{a} w_{a,t} - \\zeta_{a,t}\\end{matrix}"
   ]
  },
  {
   "cell_type": "code",
   "execution_count": 36,
   "metadata": {
    "collapsed": false
   },
   "outputs": [
    {
     "name": "stdout",
     "output_type": "stream",
     "text": [
      "\\left[\\begin{matrix}- \\frac{C_{t} \\beta}{C_{t+1}^{2}} \\left(- \\delta + 1 + \\frac{Y_{t+1} \\alpha}{K_{t+1}}\\right) e^{- a_{t}} & 0 & - \\frac{C_{t} Y_{t+1} \\alpha \\beta}{C_{t+1} K_{t+1}^{2}} e^{- a_{t}} & 0 & \\frac{C_{t} \\alpha \\beta}{C_{t+1} K_{t+1}} e^{- a_{t}} & 0 & 0\\\\0 & 0 & 0 & 0 & 0 & 0 & 0\\\\0 & 0 & 0 & 0 & 0 & 0 & 0\\\\0 & 0 & - e^{a_{t}} & 0 & 0 & 0 & 0\\\\0 & 0 & 0 & 0 & 0 & 0 & 0\\\\0 & 0 & 0 & 0 & 0 & 0 & 0\\\\0 & 0 & 0 & 0 & 0 & 0 & 0\\end{matrix}\\right]\n"
     ]
    }
   ],
   "source": [
    "print(latex(cikly_az_use_conte_d_g_d_xtp1, symbol_names=latex_dic))"
   ]
  },
  {
   "cell_type": "markdown",
   "metadata": {},
   "source": [
    "\\begin{matrix}- \\frac{C_{t} \\beta}{C_{t+1}^{2}} \\left(- \\delta + 1 + \\frac{Y_{t+1} \\alpha}{K_{t+1}}\\right) e^{- a_{t}} & 0 & - \\frac{C_{t} Y_{t+1} \\alpha \\beta}{C_{t+1} K_{t+1}^{2}} e^{- a_{t}} & 0 & \\frac{C_{t} \\alpha \\beta}{C_{t+1} K_{t+1}} e^{- a_{t}} & 0 & 0\\\\0 & 0 & 0 & 0 & 0 & 0 & 0\\\\0 & 0 & 0 & 0 & 0 & 0 & 0\\\\0 & 0 & - e^{a_{t}} & 0 & 0 & 0 & 0\\\\0 & 0 & 0 & 0 & 0 & 0 & 0\\\\0 & 0 & 0 & 0 & 0 & 0 & 0\\\\0 & 0 & 0 & 0 & 0 & 0 & 0\\end{matrix}"
   ]
  },
  {
   "cell_type": "code",
   "execution_count": 37,
   "metadata": {
    "collapsed": false
   },
   "outputs": [
    {
     "name": "stdout",
     "output_type": "stream",
     "text": [
      "\\left[\\begin{matrix}\\frac{\\beta}{C_{t+1}} \\left(- \\delta + 1 + \\frac{Y_{t+1} \\alpha}{K_{t+1}}\\right) e^{- a_{t}} & 0 & 0 & 0 & 0 & - \\frac{C_{t} \\beta}{C_{t+1}} \\left(- \\delta + 1 + \\frac{Y_{t+1} \\alpha}{K_{t+1}}\\right) e^{- a_{t}} & 0\\\\- \\frac{Y_{t} \\nu \\left(- \\alpha + 1\\right)}{C_{t}^{2} \\left(- \\nu + 1\\right)} & 0 & 0 & - \\frac{L_{t}}{\\left(- L_{t} + 1\\right)^{2}} - \\frac{1}{- L_{t} + 1} & \\frac{\\nu \\left(- \\alpha + 1\\right)}{C_{t} \\left(- \\nu + 1\\right)} & 0 & 0\\\\-1 & -1 & 0 & 0 & 1 & 0 & 0\\\\0 & 1 & - \\delta + 1 & 0 & 0 & - K_{t+1} e^{a_{t}} & 0\\\\0 & 0 & - \\frac{K_{t}^{\\alpha} \\alpha}{K_{t}} L_{t}^{- \\alpha + 1} e^{a_{t} \\left(- \\alpha + 1\\right)} & - \\frac{K_{t}^{\\alpha}}{L_{t}} L_{t}^{- \\alpha + 1} \\left(- \\alpha + 1\\right) e^{a_{t} \\left(- \\alpha + 1\\right)} & 1 & - K_{t}^{\\alpha} L_{t}^{- \\alpha + 1} \\left(- \\alpha + 1\\right) e^{a_{t} \\left(- \\alpha + 1\\right)} & 0\\\\0 & 0 & 0 & 0 & 0 & 0 & 1\\\\0 & 0 & 0 & 0 & 0 & 1 & -1\\end{matrix}\\right]\n"
     ]
    }
   ],
   "source": [
    "print(latex(cikly_az_use_conte_d_g_d_xt, symbol_names=latex_dic))"
   ]
  },
  {
   "cell_type": "markdown",
   "metadata": {},
   "source": [
    "\\begin{matrix}\\frac{\\beta}{C_{t+1}} \\left(- \\delta + 1 + \\frac{Y_{t+1} \\alpha}{K_{t+1}}\\right) e^{- a_{t}} & 0 & 0 & 0 & 0 & - \\frac{C_{t} \\beta}{C_{t+1}} \\left(- \\delta + 1 + \\frac{Y_{t+1} \\alpha}{K_{t+1}}\\right) e^{- a_{t}} & 0\\\\- \\frac{Y_{t} \\nu \\left(- \\alpha + 1\\right)}{C_{t}^{2} \\left(- \\nu + 1\\right)} & 0 & 0 & - \\frac{L_{t}}{\\left(- L_{t} + 1\\right)^{2}} - \\frac{1}{- L_{t} + 1} & \\frac{\\nu \\left(- \\alpha + 1\\right)}{C_{t} \\left(- \\nu + 1\\right)} & 0 & 0\\\\-1 & -1 & 0 & 0 & 1 & 0 & 0\\\\0 & 1 & - \\delta + 1 & 0 & 0 & - K_{t+1} e^{a_{t}} & 0\\\\0 & 0 & - \\frac{K_{t}^{\\alpha} \\alpha}{K_{t}} L_{t}^{- \\alpha + 1} e^{a_{t} \\left(- \\alpha + 1\\right)} & - \\frac{K_{t}^{\\alpha}}{L_{t}} L_{t}^{- \\alpha + 1} \\left(- \\alpha + 1\\right) e^{a_{t} \\left(- \\alpha + 1\\right)} & 1 & - K_{t}^{\\alpha} L_{t}^{- \\alpha + 1} \\left(- \\alpha + 1\\right) e^{a_{t} \\left(- \\alpha + 1\\right)} & 0\\\\0 & 0 & 0 & 0 & 0 & 0 & 1\\\\0 & 0 & 0 & 0 & 0 & 1 & -1\\end{matrix}"
   ]
  },
  {
   "cell_type": "code",
   "execution_count": 38,
   "metadata": {
    "collapsed": false
   },
   "outputs": [
    {
     "name": "stdout",
     "output_type": "stream",
     "text": [
      "\\left[\\begin{matrix}0 & 0 & 0 & 0 & 0 & 0 & 0\\\\0 & 0 & 0 & 0 & 0 & 0 & 0\\\\0 & 0 & 0 & 0 & 0 & 0 & 0\\\\0 & 0 & 0 & 0 & 0 & 0 & 0\\\\0 & 0 & 0 & 0 & 0 & 0 & 0\\\\0 & 0 & 0 & 0 & 0 & 0 & - \\rho_{a}\\\\0 & 0 & 0 & 0 & 0 & 0 & 0\\end{matrix}\\right]\n"
     ]
    }
   ],
   "source": [
    "print(latex(cikly_az_use_conte_d_g_d_xtm1, symbol_names=latex_dic))"
   ]
  },
  {
   "cell_type": "markdown",
   "metadata": {},
   "source": [
    "\\begin{matrix}0 & 0 & 0 & 0 & 0 & 0 & 0\\\\0 & 0 & 0 & 0 & 0 & 0 & 0\\\\0 & 0 & 0 & 0 & 0 & 0 & 0\\\\0 & 0 & 0 & 0 & 0 & 0 & 0\\\\0 & 0 & 0 & 0 & 0 & 0 & 0\\\\0 & 0 & 0 & 0 & 0 & 0 & - \\rho_{a}\\\\0 & 0 & 0 & 0 & 0 & 0 & 0\\end{matrix}"
   ]
  },
  {
   "cell_type": "code",
   "execution_count": 39,
   "metadata": {
    "collapsed": false
   },
   "outputs": [
    {
     "name": "stdout",
     "output_type": "stream",
     "text": [
      "\\left[\\begin{matrix}0 & 0\\\\0 & 0\\\\0 & 0\\\\0 & 0\\\\0 & 0\\\\0 & 0\\\\0 & 0\\end{matrix}\\right]\n"
     ]
    }
   ],
   "source": [
    "print(latex(cikly_az_use_conte_d_g_d_wtp1, symbol_names=latex_dic))"
   ]
  },
  {
   "cell_type": "markdown",
   "metadata": {},
   "source": [
    "\\begin{matrix}0 & 0\\\\0 & 0\\\\0 & 0\\\\0 & 0\\\\0 & 0\\\\0 & 0\\\\0 & 0\\end{matrix}"
   ]
  },
  {
   "cell_type": "code",
   "execution_count": 40,
   "metadata": {
    "collapsed": false
   },
   "outputs": [
    {
     "name": "stdout",
     "output_type": "stream",
     "text": [
      "\\left[\\begin{matrix}0 & 0\\\\0 & 0\\\\0 & 0\\\\0 & 0\\\\0 & 0\\\\0 & - \\sigma_{\\zeta_a}\\\\- \\sigma_{a} & 0\\end{matrix}\\right]\n"
     ]
    }
   ],
   "source": [
    "print(latex(cikly_az_use_conte_d_g_d_wt, symbol_names=latex_dic))"
   ]
  },
  {
   "cell_type": "markdown",
   "metadata": {},
   "source": [
    "\\begin{matrix}0 & 0\\\\0 & 0\\\\0 & 0\\\\0 & 0\\\\0 & 0\\\\0 & - \\sigma_{\\zeta_a}\\\\- \\sigma_{a} & 0\\end{matrix}"
   ]
  },
  {
   "cell_type": "markdown",
   "metadata": {
    "collapsed": true
   },
   "source": [
    "## Testing some cross properties of jacobians"
   ]
  },
  {
   "cell_type": "markdown",
   "metadata": {},
   "source": [
    "info and info have the same five rows in their jacobians"
   ]
  },
  {
   "cell_type": "code",
   "execution_count": 41,
   "metadata": {
    "collapsed": false
   },
   "outputs": [
    {
     "data": {
      "text/plain": [
       "Matrix([\n",
       "[-Ct*beta*((-delta + 1)*exp(-at) + Ytp1*alpha/Kt)/Ctp1**2, 0, 0, 0, Ct*alpha*beta/(Ctp1*Kt), 0, 0],\n",
       "[                                                       0, 0, 0, 0,                       0, 0, 0],\n",
       "[                                                       0, 0, 0, 0,                       0, 0, 0],\n",
       "[                                                       0, 0, 0, 0,                       0, 0, 0],\n",
       "[                                                       0, 0, 0, 0,                       0, 0, 0]])"
      ]
     },
     "execution_count": 41,
     "metadata": {},
     "output_type": "execute_result"
    }
   ],
   "source": [
    "cikly_az_info_d_g_d_xtp1.row(range(5))"
   ]
  },
  {
   "cell_type": "code",
   "execution_count": 42,
   "metadata": {
    "collapsed": false
   },
   "outputs": [
    {
     "data": {
      "text/plain": [
       "Matrix([\n",
       "[-Ct*beta*((-delta + 1)*exp(-at) + Ytp1*alpha/Kt)/Ctp1**2, 0, 0, 0, Ct*alpha*beta/(Ctp1*Kt), 0, 0],\n",
       "[                                                       0, 0, 0, 0,                       0, 0, 0],\n",
       "[                                                       0, 0, 0, 0,                       0, 0, 0],\n",
       "[                                                       0, 0, 0, 0,                       0, 0, 0],\n",
       "[                                                       0, 0, 0, 0,                       0, 0, 0]])"
      ]
     },
     "execution_count": 42,
     "metadata": {},
     "output_type": "execute_result"
    }
   ],
   "source": [
    "cikly_az_info_conte_d_g_d_xtp1.row(range(5))"
   ]
  },
  {
   "cell_type": "code",
   "execution_count": 43,
   "metadata": {
    "collapsed": false
   },
   "outputs": [
    {
     "data": {
      "text/plain": [
       "True"
      ]
     },
     "execution_count": 43,
     "metadata": {},
     "output_type": "execute_result"
    }
   ],
   "source": [
    "cikly_az_info_d_g_d_xt.row(range(5))==cikly_az_info_conte_d_g_d_xt.row(range(5))"
   ]
  },
  {
   "cell_type": "code",
   "execution_count": 44,
   "metadata": {
    "collapsed": false
   },
   "outputs": [
    {
     "data": {
      "text/plain": [
       "True"
      ]
     },
     "execution_count": 44,
     "metadata": {},
     "output_type": "execute_result"
    }
   ],
   "source": [
    "cikly_az_info_d_g_d_xtm1.row(range(5))==cikly_az_info_conte_d_g_d_xtm1.row(range(5))"
   ]
  },
  {
   "cell_type": "code",
   "execution_count": 45,
   "metadata": {
    "collapsed": false
   },
   "outputs": [
    {
     "data": {
      "text/plain": [
       "True"
      ]
     },
     "execution_count": 45,
     "metadata": {},
     "output_type": "execute_result"
    }
   ],
   "source": [
    "cikly_az_info_d_g_d_wtp1.row(range(5))==cikly_az_info_conte_d_g_d_wtp1.row(range(5))"
   ]
  },
  {
   "cell_type": "code",
   "execution_count": 46,
   "metadata": {
    "collapsed": false
   },
   "outputs": [
    {
     "data": {
      "text/plain": [
       "True"
      ]
     },
     "execution_count": 46,
     "metadata": {},
     "output_type": "execute_result"
    }
   ],
   "source": [
    "cikly_az_info_d_g_d_wt.row(range(5))==cikly_az_info_conte_d_g_d_wt.row(range(5))"
   ]
  },
  {
   "cell_type": "markdown",
   "metadata": {},
   "source": [
    "use and use_conte have identical first 5 rows of their jacobians"
   ]
  },
  {
   "cell_type": "code",
   "execution_count": 47,
   "metadata": {
    "collapsed": false
   },
   "outputs": [
    {
     "data": {
      "text/plain": [
       "True"
      ]
     },
     "execution_count": 47,
     "metadata": {},
     "output_type": "execute_result"
    }
   ],
   "source": [
    "cikly_az_use_d_g_d_xtp1.row(range(5))==cikly_az_use_conte_d_g_d_xtp1.row(range(5))"
   ]
  },
  {
   "cell_type": "code",
   "execution_count": 48,
   "metadata": {
    "collapsed": false
   },
   "outputs": [
    {
     "data": {
      "text/plain": [
       "True"
      ]
     },
     "execution_count": 48,
     "metadata": {},
     "output_type": "execute_result"
    }
   ],
   "source": [
    "cikly_az_use_d_g_d_xt.row(range(5))==cikly_az_use_conte_d_g_d_xt.row(range(5))"
   ]
  },
  {
   "cell_type": "code",
   "execution_count": 49,
   "metadata": {
    "collapsed": false
   },
   "outputs": [
    {
     "data": {
      "text/plain": [
       "True"
      ]
     },
     "execution_count": 49,
     "metadata": {},
     "output_type": "execute_result"
    }
   ],
   "source": [
    "cikly_az_use_d_g_d_xtm1.row(range(5))==cikly_az_use_conte_d_g_d_xtm1.row(range(5))"
   ]
  },
  {
   "cell_type": "code",
   "execution_count": 50,
   "metadata": {
    "collapsed": false
   },
   "outputs": [
    {
     "data": {
      "text/plain": [
       "True"
      ]
     },
     "execution_count": 50,
     "metadata": {},
     "output_type": "execute_result"
    }
   ],
   "source": [
    "cikly_az_use_d_g_d_xtm1.row(range(5))==cikly_az_use_conte_d_g_d_xtm1.row(range(5))"
   ]
  },
  {
   "cell_type": "code",
   "execution_count": 51,
   "metadata": {
    "collapsed": false
   },
   "outputs": [
    {
     "data": {
      "text/plain": [
       "True"
      ]
     },
     "execution_count": 51,
     "metadata": {},
     "output_type": "execute_result"
    }
   ],
   "source": [
    "cikly_az_use_d_g_d_wtp1.row(range(5))==cikly_az_use_conte_d_g_d_wtp1.row(range(5))"
   ]
  },
  {
   "cell_type": "code",
   "execution_count": 52,
   "metadata": {
    "collapsed": false
   },
   "outputs": [
    {
     "data": {
      "text/plain": [
       "True"
      ]
     },
     "execution_count": 52,
     "metadata": {},
     "output_type": "execute_result"
    }
   ],
   "source": [
    "cikly_az_use_d_g_d_wt.row(range(5))==cikly_az_use_conte_d_g_d_wt.row(range(5))"
   ]
  },
  {
   "cell_type": "markdown",
   "metadata": {},
   "source": [
    "info and use have identical last two rows"
   ]
  },
  {
   "cell_type": "code",
   "execution_count": 53,
   "metadata": {
    "collapsed": false
   },
   "outputs": [
    {
     "data": {
      "text/plain": [
       "True"
      ]
     },
     "execution_count": 53,
     "metadata": {},
     "output_type": "execute_result"
    }
   ],
   "source": [
    "cikly_az_info_d_g_d_xtp1.row((5,6))==cikly_az_use_d_g_d_xtp1.row((5,6))"
   ]
  },
  {
   "cell_type": "code",
   "execution_count": 54,
   "metadata": {
    "collapsed": false
   },
   "outputs": [
    {
     "data": {
      "text/plain": [
       "True"
      ]
     },
     "execution_count": 54,
     "metadata": {},
     "output_type": "execute_result"
    }
   ],
   "source": [
    "cikly_az_info_d_g_d_xt.row((5,6))==cikly_az_use_d_g_d_xt.row((5,6))"
   ]
  },
  {
   "cell_type": "code",
   "execution_count": 55,
   "metadata": {
    "collapsed": false
   },
   "outputs": [
    {
     "data": {
      "text/plain": [
       "True"
      ]
     },
     "execution_count": 55,
     "metadata": {},
     "output_type": "execute_result"
    }
   ],
   "source": [
    "cikly_az_info_d_g_d_xtm1.row((5,6))==cikly_az_use_d_g_d_xtm1.row((5,6))"
   ]
  },
  {
   "cell_type": "code",
   "execution_count": 56,
   "metadata": {
    "collapsed": false
   },
   "outputs": [
    {
     "data": {
      "text/plain": [
       "True"
      ]
     },
     "execution_count": 56,
     "metadata": {},
     "output_type": "execute_result"
    }
   ],
   "source": [
    "cikly_az_info_d_g_d_wtp1.row((5,6))==cikly_az_use_d_g_d_wtp1.row((5,6))"
   ]
  },
  {
   "cell_type": "code",
   "execution_count": 57,
   "metadata": {
    "collapsed": false
   },
   "outputs": [
    {
     "data": {
      "text/plain": [
       "True"
      ]
     },
     "execution_count": 57,
     "metadata": {},
     "output_type": "execute_result"
    }
   ],
   "source": [
    "cikly_az_info_d_g_d_wt.row((5,6))==cikly_az_use_d_g_d_wt.row((5,6))"
   ]
  },
  {
   "cell_type": "markdown",
   "metadata": {},
   "source": [
    "info_conte and use_conte have identical last two rows"
   ]
  },
  {
   "cell_type": "code",
   "execution_count": 58,
   "metadata": {
    "collapsed": false
   },
   "outputs": [
    {
     "data": {
      "text/plain": [
       "True"
      ]
     },
     "execution_count": 58,
     "metadata": {},
     "output_type": "execute_result"
    }
   ],
   "source": [
    "cikly_az_info_conte_d_g_d_xtp1.row((5,6))==cikly_az_use_conte_d_g_d_xtp1.row((5,6))"
   ]
  },
  {
   "cell_type": "code",
   "execution_count": 59,
   "metadata": {
    "collapsed": false
   },
   "outputs": [
    {
     "data": {
      "text/plain": [
       "True"
      ]
     },
     "execution_count": 59,
     "metadata": {},
     "output_type": "execute_result"
    }
   ],
   "source": [
    "cikly_az_info_conte_d_g_d_xt.row((5,6))==cikly_az_use_conte_d_g_d_xt.row((5,6))"
   ]
  },
  {
   "cell_type": "code",
   "execution_count": 60,
   "metadata": {
    "collapsed": false
   },
   "outputs": [
    {
     "data": {
      "text/plain": [
       "True"
      ]
     },
     "execution_count": 60,
     "metadata": {},
     "output_type": "execute_result"
    }
   ],
   "source": [
    "cikly_az_info_conte_d_g_d_xtm1.row((5,6))==cikly_az_use_conte_d_g_d_xtm1.row((5,6))"
   ]
  },
  {
   "cell_type": "code",
   "execution_count": 61,
   "metadata": {
    "collapsed": false
   },
   "outputs": [
    {
     "data": {
      "text/plain": [
       "True"
      ]
     },
     "execution_count": 61,
     "metadata": {},
     "output_type": "execute_result"
    }
   ],
   "source": [
    "cikly_az_info_conte_d_g_d_wtp1.row((5,6))==cikly_az_use_conte_d_g_d_wtp1.row((5,6))"
   ]
  },
  {
   "cell_type": "code",
   "execution_count": 62,
   "metadata": {
    "collapsed": false
   },
   "outputs": [
    {
     "data": {
      "text/plain": [
       "True"
      ]
     },
     "execution_count": 62,
     "metadata": {},
     "output_type": "execute_result"
    }
   ],
   "source": [
    "cikly_az_info_conte_d_g_d_wt.row((5,6))==cikly_az_use_conte_d_g_d_wt.row((5,6))"
   ]
  },
  {
   "cell_type": "code",
   "execution_count": null,
   "metadata": {
    "collapsed": true
   },
   "outputs": [],
   "source": []
  }
 ],
 "metadata": {
  "kernelspec": {
   "display_name": "Python 2",
   "language": "python",
   "name": "python2"
  },
  "language_info": {
   "codemirror_mode": {
    "name": "ipython",
    "version": 2
   },
   "file_extension": ".py",
   "mimetype": "text/x-python",
   "name": "python",
   "nbconvert_exporter": "python",
   "pygments_lexer": "ipython2",
   "version": "2.7.11"
  }
 },
 "nbformat": 4,
 "nbformat_minor": 0
}
