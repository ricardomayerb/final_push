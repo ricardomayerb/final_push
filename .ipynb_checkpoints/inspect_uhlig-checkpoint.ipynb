{
 "cells": [
  {
   "cell_type": "code",
   "execution_count": 175,
   "metadata": {
    "collapsed": true
   },
   "outputs": [],
   "source": [
    "from sympy import latex\n",
    "import collections\n",
    "import numpy as np"
   ]
  },
  {
   "cell_type": "code",
   "execution_count": 177,
   "metadata": {
    "collapsed": false
   },
   "outputs": [
    {
     "name": "stdout",
     "output_type": "stream",
     "text": [
      "['K']\n",
      "['C', 'I', 'L', 'Y']\n",
      "['adm', 'bdm', 'zetaa']\n",
      "['adm', 'bdm', 'C', 'I', 'K', 'L', 'Y', 'zetaa']\n",
      "['wa', 'wzetaa']\n",
      "self.eqns\n",
      "[Ct*beta*((-delta + 1)*exp(-admt - mua) + Ytp1*alpha/Kt)/Ctp1 - 1, -Lt/(-Lt + 1) + Yt*nu*(-alpha + 1)/(Ct*(-nu + 1)), Ct + It - Yt, -It + Kt - Ktm1*(-delta + 1)*exp(-bdmt - mua), Ktm1**alpha*Lt**(-alpha + 1)*exp(-alpha*(bdmt + mua) + (admt + mua)*(-alpha + 1)) - Yt, rhoa*zetaat + sigmazetaa*wzetaatp1 - zetaatp1, -admt + sigmaa*watp1 + zetaat, -admt + bdmtp1]\n",
      "\n",
      "self.eqns_non_expec\n",
      "[-Lt/(-Lt + 1) + Yt*nu*(-alpha + 1)/(Ct*(-nu + 1)), Ct + It - Yt, -It + Kt - Ktm1*(-delta + 1)*exp(-bdmt - mua), Ktm1**alpha*Lt**(-alpha + 1)*exp(-alpha*(bdmt + mua) + (admt + mua)*(-alpha + 1)) - Yt]\n",
      "\n",
      "self.eqns_expec\n",
      "[Ct*beta*((-delta + 1)*exp(-admt - mua) + Ytp1*alpha/Kt)/Ctp1 - 1]\n",
      "\n",
      "self.eqns_z\n",
      "[rhoa*zetaat + sigmazetaa*wzetaatp1 - zetaatp1, -admt + sigmaa*watp1 + zetaat, -admt + bdmtp1]\n",
      "[0.0, 0.0, 0.0]\n",
      "(array([], dtype=int64),)\n",
      "[1 1 1]\n",
      "\n",
      "A\n",
      "[[ 0.]\n",
      " [ 0.]\n",
      " [ 1.]\n",
      " [ 0.]]\n",
      "\n",
      "\n",
      "Matrix([[0], [0], [1], [0]])\n",
      "\n",
      "\n",
      "Matrix([[0], [0], [1], [0]])\n",
      "\n",
      "B\n",
      "[[ 0.   ]\n",
      " [ 0.   ]\n",
      " [-0.873]\n",
      " [ 0.147]]\n",
      "\n",
      "\n",
      "Matrix([[0], [0], [-(-delta + 1)*exp(-bdm_ss - mua)], [K_ss**alpha*L_ss**(-alpha + 1)*alpha*exp(-alpha*(bdm_ss + mua) + (adm_ss + mua)*(-alpha + 1))/K_ss]])\n",
      "\n",
      "\n",
      "Matrix([[0], [0], [-(-delta + 1)*exp(-bdmt - mua)], [Ktm1**alpha*Lt**(-alpha + 1)*alpha*exp(-alpha*(bdmt + mua) + (admt + mua)*(-alpha + 1))/Ktm1]])\n",
      "\n",
      "C\n",
      "[[-1.192  0.    -1.901  0.822]\n",
      " [ 1.     1.     0.    -1.   ]\n",
      " [ 0.    -1.     0.     0.   ]\n",
      " [ 0.     0.     1.073 -1.   ]]\n",
      "\n",
      "\n",
      "Matrix([[-Y_ss*nu*(-alpha + 1)/(C_ss**2*(-nu + 1)), 0, -L_ss/(-L_ss + 1)**2 - 1/(-L_ss + 1), nu*(-alpha + 1)/(C_ss*(-nu + 1))], [1, 1, 0, -1], [0, -1, 0, 0], [0, 0, K_ss**alpha*L_ss**(-alpha + 1)*(-alpha + 1)*exp(-alpha*(bdm_ss + mua) + (adm_ss + mua)*(-alpha + 1))/L_ss, -1]])\n",
      "\n",
      "\n",
      "Matrix([[-Yt*nu*(-alpha + 1)/(Ct**2*(-nu + 1)), 0, -Lt/(-Lt + 1)**2 - 1/(-Lt + 1), nu*(-alpha + 1)/(Ct*(-nu + 1))], [1, 1, 0, -1], [0, -1, 0, 0], [0, 0, Ktm1**alpha*Lt**(-alpha + 1)*(-alpha + 1)*exp(-alpha*(bdmt + mua) + (admt + mua)*(-alpha + 1))/Lt, -1]])\n",
      "\n",
      "D\n",
      "[[ 0.     0.     0.   ]\n",
      " [ 0.     0.     0.   ]\n",
      " [ 0.     0.985  0.   ]\n",
      " [ 0.295 -0.166  0.   ]]\n",
      "\n",
      "\n",
      "Matrix([[0, 0, 0], [0, 0, 0], [0, K_ss*(-delta + 1)*exp(-bdm_ss - mua), 0], [K_ss**alpha*L_ss**(-alpha + 1)*(-alpha + 1)*exp(-alpha*(bdm_ss + mua) + (adm_ss + mua)*(-alpha + 1)), -K_ss**alpha*L_ss**(-alpha + 1)*alpha*exp(-alpha*(bdm_ss + mua) + (adm_ss + mua)*(-alpha + 1)), 0]])\n",
      "\n",
      "\n",
      "Matrix([[0, 0, 0], [0, 0, 0], [0, Ktm1*(-delta + 1)*exp(-bdmt - mua), 0], [Ktm1**alpha*Lt**(-alpha + 1)*(-alpha + 1)*exp(-alpha*(bdmt + mua) + (admt + mua)*(-alpha + 1)), -Ktm1**alpha*Lt**(-alpha + 1)*alpha*exp(-alpha*(bdmt + mua) + (admt + mua)*(-alpha + 1)), 0]])\n",
      "\n",
      "F\n",
      "[[ 0.]]\n",
      "\n",
      "\n",
      "Matrix([[0]])\n",
      "\n",
      "\n",
      "Matrix([[0]])\n",
      "\n",
      "G\n",
      "[[-0.128]]\n",
      "\n",
      "\n",
      "Matrix([[-Y_ss*alpha*beta/K_ss**2]])\n",
      "\n",
      "\n",
      "Matrix([[-Ct*Ytp1*alpha*beta/(Ctp1*Kt**2)]])\n",
      "\n",
      "H\n",
      "[[ 0.]]\n",
      "\n",
      "\n",
      "Matrix([[0]])\n",
      "\n",
      "\n",
      "Matrix([[0]])\n",
      "\n",
      "J\n",
      "[[-3.146  0.     0.     0.313]]\n",
      "\n",
      "\n",
      "Matrix([[-beta*((-delta + 1)*exp(-adm_ss - mua) + Y_ss*alpha/K_ss)/C_ss, 0, 0, alpha*beta/K_ss]])\n",
      "\n",
      "\n",
      "Matrix([[-Ct*beta*((-delta + 1)*exp(-admt - mua) + Ytp1*alpha/Kt)/Ctp1**2, 0, 0, Ct*alpha*beta/(Ctp1*Kt)]])\n",
      "\n",
      "K\n",
      "[[ 3.146  0.     0.     0.   ]]\n",
      "\n",
      "\n",
      "Matrix([[beta*((-delta + 1)*exp(-adm_ss - mua) + Y_ss*alpha/K_ss)/C_ss, 0, 0, 0]])\n",
      "\n",
      "\n",
      "Matrix([[beta*((-delta + 1)*exp(-admt - mua) + Ytp1*alpha/Kt)/Ctp1, 0, 0, 0]])\n",
      "\n",
      "L\n",
      "[[ 0.  0.  0.]]\n",
      "\n",
      "\n",
      "Matrix([[0, 0, 0]])\n",
      "\n",
      "\n",
      "Matrix([[0, 0, 0]])\n",
      "\n",
      "M\n",
      "[[-0.856  0.     0.   ]]\n",
      "\n",
      "\n",
      "Matrix([[-beta*(-delta + 1)*exp(-adm_ss - mua), 0, 0]])\n",
      "\n",
      "\n",
      "Matrix([[-Ct*beta*(-delta + 1)*exp(-admt - mua)/Ctp1, 0, 0]])\n",
      "\n",
      "N\n",
      "[[ 0.    0.    0.97]\n",
      " [-1.    0.    1.  ]\n",
      " [-1.    0.    0.  ]]\n",
      "\n",
      "\n",
      "Matrix([[0, 0, rhoa], [-1, 0, 1], [-1, 0, 0]])\n",
      "\n",
      "\n",
      "Matrix([[0, 0, rhoa], [-1, 0, 1], [-1, 0, 0]])\n"
     ]
    }
   ],
   "source": [
    "%run try_uhlig.py"
   ]
  },
  {
   "cell_type": "code",
   "execution_count": 178,
   "metadata": {
    "collapsed": false
   },
   "outputs": [],
   "source": [
    "latex_dic_xtp1 = collections.OrderedDict({Ctp1:'C_{t+1}',Itp1:'I_{t+1}',Ktp1:'K_{t+1}',Ltp1:'L_{t+1}',Ytp1:'Y_{t+1}',\n",
    "                  atp1:'a_{t+1}', zetaatp1:'\\zeta_{a,t+1}'})\n",
    "latex_dic_xt = collections.OrderedDict({Ct:'C_{t}',It:'I_{t}',Kt:'K_{t}',Lt:'L_{t}',Yt:'Y_{t}',\n",
    "                  at:'a_{t}', zetaat:'\\zeta_{a,t}'})\n",
    "latex_dic_xtm1 = collections.OrderedDict({Ctm1:'C_{t-1}',Itm1:'I_{t-1}',Ktm1:'K_{t-1}',Ltm1:'L_{t-1}',Ytm1:'Y_{t-1}',\n",
    "                  atm1:'a_{t-1}', zetaatm1:'\\zeta_{a,t-1}'})\n",
    "latex_dic_wtp1 = collections.OrderedDict({watp1:'w_{a,t+1}', wzetaatp1:'w_{\\zeta_a, t+1}'})\n",
    "latex_dic_wt = collections.OrderedDict({wat:'w_{a,t}', wzetaat:'w_{\\zeta_a, t}'})\n",
    "latex_dic_uh_aux = collections.OrderedDict({admt:'adm_{t+1}', admt:'adm_{t}', admtm1:'adm_{t-1}',\n",
    "                                            bdmt:'bdm_{t+1}', bdmt:'bdm_{t}', bdmtm1:'bdm_{t-1}'})\n",
    "latex_dic_param = collections.OrderedDict({mua:'\\mu_a', rhoa:'\\\\rho_{a}',sigmaa:'\\sigma_{a}', sigmazetaa:'\\sigma_{\\zeta_a}'})\n",
    "latex_dic = latex_dic_xtp1\n",
    "latex_dic.update(latex_dic_xt)\n",
    "latex_dic.update(latex_dic_xtm1)\n",
    "latex_dic.update(latex_dic_wtp1)\n",
    "latex_dic.update(latex_dic_wt)\n",
    "latex_dic.update(latex_dic_uh_aux)\n",
    "latex_dic.update(latex_dic_param)"
   ]
  },
  {
   "cell_type": "markdown",
   "metadata": {},
   "source": [
    "## Inspect the system of equillibrium equations"
   ]
  },
  {
   "cell_type": "markdown",
   "metadata": {},
   "source": [
    "### Original system"
   ]
  },
  {
   "cell_type": "markdown",
   "metadata": {},
   "source": [
    "In Uhlig's form, the equations for the exogenous variables (\"z\") must be in the form $z_{t+1} = N z_t + \\epsilon_{t+1}$, this means that, sometimes we need to shift forward these subset of equations and enter them as $0 = N z_t + \\epsilon_{t+1} - z_{t+1}$"
   ]
  },
  {
   "cell_type": "code",
   "execution_count": 179,
   "metadata": {
    "collapsed": false
   },
   "outputs": [
    {
     "data": {
      "text/plain": [
       "{Y_ss: 0.46073963452599997,\n",
       " K_ss: 1.1282868290070001,\n",
       " bdm_ss: 0.0,\n",
       " zetaa_ss: 0.0,\n",
       " I_ss: 0.142840006613,\n",
       " adm_ss: 0.0,\n",
       " C_ss: 0.31789962791300003,\n",
       " L_ss: 0.27476615687400002}"
      ]
     },
     "execution_count": 179,
     "metadata": {},
     "output_type": "execute_result"
    }
   ],
   "source": [
    "umodel.ss_solutions_dict"
   ]
  },
  {
   "cell_type": "code",
   "execution_count": 180,
   "metadata": {
    "collapsed": false
   },
   "outputs": [
    {
     "name": "stdout",
     "output_type": "stream",
     "text": [
      "\\left [ \\frac{C_{t} \\beta}{C_{t+1}} \\left(\\left(- \\delta + 1\\right) e^{- adm_{t} - \\mu_a} + \\frac{Y_{t+1} \\alpha}{K_{t}}\\right) - 1, \\quad - \\frac{L_{t}}{- L_{t} + 1} + \\frac{Y_{t} \\nu \\left(- \\alpha + 1\\right)}{C_{t} \\left(- \\nu + 1\\right)}, \\quad C_{t} + I_{t} - Y_{t}, \\quad - I_{t} + K_{t} - K_{t-1} \\left(- \\delta + 1\\right) e^{- bdm_{t} - \\mu_a}, \\quad K_{t-1}^{\\alpha} L_{t}^{- \\alpha + 1} e^{- \\alpha \\left(bdm_{t} + \\mu_a\\right) + \\left(adm_{t} + \\mu_a\\right) \\left(- \\alpha + 1\\right)} - Y_{t}, \\quad \\rho_{a} \\zeta_{a,t} + \\sigma_{\\zeta_a} w_{\\zeta_a, t+1} - \\zeta_{a,t+1}, \\quad - adm_{t} + \\sigma_{a} w_{a,t+1} + \\zeta_{a,t}, \\quad - adm_{t} + bdmtp_{1}\\right ]\n"
     ]
    }
   ],
   "source": [
    "print(latex(umodel.eqns, symbol_names=latex_dic))"
   ]
  },
  {
   "cell_type": "markdown",
   "metadata": {},
   "source": [
    "$\\left [ \\frac{C_{t} \\beta}{C_{t+1}} \\left(\\left(- \\delta + 1\\right) e^{- adm_{t} - \\mu_a} + \\frac{Y_{t+1} \\alpha}{K_{t}}\\right) - 1, \\quad - \\frac{L_{t}}{- L_{t} + 1} + \\frac{Y_{t} \\nu \\left(- \\alpha + 1\\right)}{C_{t} \\left(- \\nu + 1\\right)}, \\quad C_{t} + I_{t} - Y_{t}, \\quad - I_{t} + K_{t} - K_{t-1} \\left(- \\delta + 1\\right) e^{- bdm_{t} - \\mu_a}, \\quad K_{t-1}^{\\alpha} L_{t}^{- \\alpha + 1} e^{- \\alpha \\left(bdm_{t} + \\mu_a\\right) + \\left(adm_{t} + \\mu_a\\right) \\left(- \\alpha + 1\\right)} - Y_{t}, \\quad \\rho_{a} \\zeta_{a,t} + \\sigma_{\\zeta_a} w_{\\zeta_a, t+1} - \\zeta_{a,t+1}, \\quad - adm_{t} + \\sigma_{a} w_{a,t+1} + \\zeta_{a,t}, \\quad - adm_{t} + bdmtp_{1}\\right ]$\n"
   ]
  },
  {
   "cell_type": "markdown",
   "metadata": {},
   "source": [
    "Is this correct?"
   ]
  },
  {
   "cell_type": "markdown",
   "metadata": {},
   "source": [
    "### Non expectational Block"
   ]
  },
  {
   "cell_type": "code",
   "execution_count": 181,
   "metadata": {
    "collapsed": false
   },
   "outputs": [
    {
     "data": {
      "text/plain": [
       "[-Lt/(-Lt + 1) + Yt*nu*(-alpha + 1)/(Ct*(-nu + 1)),\n",
       " Ct + It - Yt,\n",
       " -It + Kt - Ktm1*(-delta + 1)*exp(-bdmt - mua),\n",
       " Ktm1**alpha*Lt**(-alpha + 1)*exp(-alpha*(bdmt + mua) + (admt + mua)*(-alpha + 1)) - Yt]"
      ]
     },
     "execution_count": 181,
     "metadata": {},
     "output_type": "execute_result"
    }
   ],
   "source": [
    "umodel.eqns_non_expec"
   ]
  },
  {
   "cell_type": "code",
   "execution_count": 182,
   "metadata": {
    "collapsed": false
   },
   "outputs": [
    {
     "name": "stdout",
     "output_type": "stream",
     "text": [
      "\\left [ - \\frac{L_{t}}{- L_{t} + 1} + \\frac{Y_{t} \\nu \\left(- \\alpha + 1\\right)}{C_{t} \\left(- \\nu + 1\\right)}, \\quad C_{t} + I_{t} - Y_{t}, \\quad - I_{t} + K_{t} - K_{t-1} \\left(- \\delta + 1\\right) e^{- bdm_{t} - \\mu_a}, \\quad K_{t-1}^{\\alpha} L_{t}^{- \\alpha + 1} e^{- \\alpha \\left(bdm_{t} + \\mu_a\\right) + \\left(adm_{t} + \\mu_a\\right) \\left(- \\alpha + 1\\right)} - Y_{t}\\right ]\n"
     ]
    }
   ],
   "source": [
    "print(latex(umodel.eqns_non_expec, symbol_names=latex_dic))"
   ]
  },
  {
   "cell_type": "markdown",
   "metadata": {},
   "source": [
    "$\n",
    "\\left [ - \\frac{L_{t}}{- L_{t} + 1} + \\frac{Y_{t} \\nu \\left(- \\alpha + 1\\right)}{C_{t} \\left(- \\nu + 1\\right)}, \\quad C_{t} + I_{t} - Y_{t}, \\quad - I_{t} + K_{t} - K_{t-1} \\left(- \\delta + 1\\right) e^{- bdm_{t} - \\mu_a}, \\quad K_{t-1}^{\\alpha} L_{t}^{- \\alpha + 1} e^{- \\alpha \\left(bdm_{t} + \\mu_a\\right) + \\left(adm_{t} + \\mu_a\\right) \\left(- \\alpha + 1\\right)} - Y_{t}\\right ]\n",
    "$"
   ]
  },
  {
   "cell_type": "markdown",
   "metadata": {},
   "source": [
    "Is this correct? Yes."
   ]
  },
  {
   "cell_type": "markdown",
   "metadata": {},
   "source": [
    "### Expectational Block"
   ]
  },
  {
   "cell_type": "code",
   "execution_count": 183,
   "metadata": {
    "collapsed": false
   },
   "outputs": [
    {
     "data": {
      "text/plain": [
       "[Ct*beta*((-delta + 1)*exp(-admt - mua) + Ytp1*alpha/Kt)/Ctp1 - 1]"
      ]
     },
     "execution_count": 183,
     "metadata": {},
     "output_type": "execute_result"
    }
   ],
   "source": [
    "umodel.eqns_expec"
   ]
  },
  {
   "cell_type": "code",
   "execution_count": 184,
   "metadata": {
    "collapsed": false
   },
   "outputs": [
    {
     "name": "stdout",
     "output_type": "stream",
     "text": [
      "\\left [ \\frac{C_{t} \\beta}{C_{t+1}} \\left(\\left(- \\delta + 1\\right) e^{- adm_{t} - \\mu_a} + \\frac{Y_{t+1} \\alpha}{K_{t}}\\right) - 1\\right ]\n"
     ]
    }
   ],
   "source": [
    "print(latex(umodel.eqns_expec, symbol_names=latex_dic))"
   ]
  },
  {
   "cell_type": "markdown",
   "metadata": {},
   "source": [
    "$\\left [ \\frac{C_{t} \\beta}{C_{t+1}} \\left(\\left(- \\delta + 1\\right) e^{- adm_{t} - \\mu_a} + \\frac{Y_{t+1} \\alpha}{K_{t}}\\right) - 1\\right ]$"
   ]
  },
  {
   "cell_type": "markdown",
   "metadata": {},
   "source": [
    "Is this correct? Yes"
   ]
  },
  {
   "cell_type": "markdown",
   "metadata": {},
   "source": [
    "### Z block"
   ]
  },
  {
   "cell_type": "code",
   "execution_count": 185,
   "metadata": {
    "collapsed": false
   },
   "outputs": [
    {
     "data": {
      "text/plain": [
       "[rhoa*zetaat + sigmazetaa*wzetaatp1 - zetaatp1,\n",
       " -admt + sigmaa*watp1 + zetaat,\n",
       " -admt + bdmtp1]"
      ]
     },
     "execution_count": 185,
     "metadata": {},
     "output_type": "execute_result"
    }
   ],
   "source": [
    "umodel.eqns_z"
   ]
  },
  {
   "cell_type": "code",
   "execution_count": 186,
   "metadata": {
    "collapsed": false
   },
   "outputs": [
    {
     "name": "stdout",
     "output_type": "stream",
     "text": [
      "\\left [ \\rho_{a} \\zeta_{a,t} + \\sigma_{\\zeta_a} w_{\\zeta_a, t+1} - \\zeta_{a,t+1}, \\quad - adm_{t} + \\sigma_{a} w_{a,t+1} + \\zeta_{a,t}, \\quad - adm_{t} + bdmtp_{1}\\right ]\n"
     ]
    }
   ],
   "source": [
    "print(latex(umodel.eqns_z, symbol_names=latex_dic))"
   ]
  },
  {
   "cell_type": "markdown",
   "metadata": {},
   "source": [
    "$\n",
    "\\left [ \\rho_{a} \\zeta_{a,t} + \\sigma_{\\zeta_a} w_{\\zeta_a, t+1} - \\zeta_{a,t+1}, \\quad - adm_{t} + \\sigma_{a} w_{a,t+1} + \\zeta_{a,t}, \\quad - adm_{t} + bdmtp_{1}\\right ]\n",
    "$"
   ]
  },
  {
   "cell_type": "markdown",
   "metadata": {},
   "source": [
    "Is this correct? Yes."
   ]
  },
  {
   "cell_type": "markdown",
   "metadata": {
    "collapsed": true
   },
   "source": [
    "## Inspecting the steady state"
   ]
  },
  {
   "cell_type": "markdown",
   "metadata": {},
   "source": [
    "### SS solutions"
   ]
  },
  {
   "cell_type": "code",
   "execution_count": 134,
   "metadata": {
    "collapsed": false
   },
   "outputs": [
    {
     "data": {
      "text/plain": [
       "{Y_ss: 0.46073963452599997,\n",
       " K_ss: 1.1282868290070001,\n",
       " bdm_ss: 0.0,\n",
       " zetaa_ss: 0.0,\n",
       " I_ss: 0.142840006613,\n",
       " adm_ss: 0.0,\n",
       " C_ss: 0.31789962791300003,\n",
       " L_ss: 0.27476615687400002}"
      ]
     },
     "execution_count": 134,
     "metadata": {},
     "output_type": "execute_result"
    }
   ],
   "source": [
    "umodel.ss_solutions_dict"
   ]
  },
  {
   "cell_type": "code",
   "execution_count": 135,
   "metadata": {
    "collapsed": false
   },
   "outputs": [
    {
     "data": {
      "text/plain": [
       "[1.71862524211974e-13,\n",
       " -1.94455562763096e-13,\n",
       " 5.55111512312578e-17,\n",
       " -3.07198710913781e-13,\n",
       " 2.93709501164585e-13,\n",
       " 0,\n",
       " 0.0,\n",
       " 0.0]"
      ]
     },
     "execution_count": 135,
     "metadata": {},
     "output_type": "execute_result"
    }
   ],
   "source": [
    "umodel.ss_residuals"
   ]
  },
  {
   "cell_type": "markdown",
   "metadata": {},
   "source": [
    "## Inspecting unevaluated Jacobians"
   ]
  },
  {
   "cell_type": "markdown",
   "metadata": {},
   "source": [
    "### variables"
   ]
  },
  {
   "cell_type": "code",
   "execution_count": 136,
   "metadata": {
    "collapsed": false
   },
   "outputs": [
    {
     "data": {
      "text/plain": [
       "([Ktp1], [Kt], [Ktm1])"
      ]
     },
     "execution_count": 136,
     "metadata": {},
     "output_type": "execute_result"
    }
   ],
   "source": [
    "umodel.u_x_tp1_sym, umodel.u_x_t_sym, umodel.u_x_tm1_sym"
   ]
  },
  {
   "cell_type": "code",
   "execution_count": 137,
   "metadata": {
    "collapsed": false
   },
   "outputs": [
    {
     "data": {
      "text/plain": [
       "([Ctp1, Itp1, Ltp1, Ytp1], [Ct, It, Lt, Yt])"
      ]
     },
     "execution_count": 137,
     "metadata": {},
     "output_type": "execute_result"
    }
   ],
   "source": [
    "umodel.u_y_tp1_sym, umodel.u_y_t_sym"
   ]
  },
  {
   "cell_type": "code",
   "execution_count": 138,
   "metadata": {
    "collapsed": false
   },
   "outputs": [
    {
     "data": {
      "text/plain": [
       "([admtp1, bdmtp1, zetaatp1], [admt, bdmt, zetaat])"
      ]
     },
     "execution_count": 138,
     "metadata": {},
     "output_type": "execute_result"
    }
   ],
   "source": [
    "umodel.u_z_tp1_sym, umodel.u_z_t_sym"
   ]
  },
  {
   "cell_type": "markdown",
   "metadata": {},
   "source": [
    "## Inspecting unevaluated Jacobians"
   ]
  },
  {
   "cell_type": "markdown",
   "metadata": {},
   "source": [
    "### Non expectational block"
   ]
  },
  {
   "cell_type": "markdown",
   "metadata": {},
   "source": [
    "A, B"
   ]
  },
  {
   "cell_type": "code",
   "execution_count": 139,
   "metadata": {
    "collapsed": false
   },
   "outputs": [
    {
     "data": {
      "text/plain": [
       "[-Lt/(-Lt + 1) + Yt*nu*(-alpha + 1)/(Ct*(-nu + 1)),\n",
       " Ct + It - Yt,\n",
       " -It + Kt - Ktm1*(-delta + 1)*exp(-bdmt - mua),\n",
       " Ktm1**alpha*Lt**(-alpha + 1)*exp(-alpha*(bdmt + mua) + (admt + mua)*(-alpha + 1)) - Yt]"
      ]
     },
     "execution_count": 139,
     "metadata": {},
     "output_type": "execute_result"
    }
   ],
   "source": [
    "umodel.eqns_non_expec"
   ]
  },
  {
   "cell_type": "code",
   "execution_count": 140,
   "metadata": {
    "collapsed": false
   },
   "outputs": [
    {
     "data": {
      "text/plain": [
       "Matrix([\n",
       "[0],\n",
       "[0],\n",
       "[1],\n",
       "[0]])"
      ]
     },
     "execution_count": 140,
     "metadata": {},
     "output_type": "execute_result"
    }
   ],
   "source": [
    "umodel.uA_sym"
   ]
  },
  {
   "cell_type": "code",
   "execution_count": 141,
   "metadata": {
    "collapsed": false
   },
   "outputs": [
    {
     "data": {
      "text/plain": [
       "Matrix([\n",
       "[                                                                                           0],\n",
       "[                                                                                           0],\n",
       "[                                                              -(-delta + 1)*exp(-bdmt - mua)],\n",
       "[Ktm1**alpha*Lt**(-alpha + 1)*alpha*exp(-alpha*(bdmt + mua) + (admt + mua)*(-alpha + 1))/Ktm1]])"
      ]
     },
     "execution_count": 141,
     "metadata": {},
     "output_type": "execute_result"
    }
   ],
   "source": [
    "umodel.uB_sym"
   ]
  },
  {
   "cell_type": "code",
   "execution_count": 142,
   "metadata": {
    "collapsed": false
   },
   "outputs": [
    {
     "data": {
      "text/plain": [
       "Matrix([[-Yt*nu*(-alpha + 1)/(Ct**2*(-nu + 1)), 0, -Lt/(-Lt + 1)**2 - 1/(-Lt + 1), nu*(-alpha + 1)/(Ct*(-nu + 1))]])"
      ]
     },
     "execution_count": 142,
     "metadata": {},
     "output_type": "execute_result"
    }
   ],
   "source": [
    "umodel.uC_sym[0,:]"
   ]
  },
  {
   "cell_type": "code",
   "execution_count": 143,
   "metadata": {
    "collapsed": false
   },
   "outputs": [
    {
     "data": {
      "text/plain": [
       "Matrix([[1, 1, 0, -1]])"
      ]
     },
     "execution_count": 143,
     "metadata": {},
     "output_type": "execute_result"
    }
   ],
   "source": [
    "umodel.uC_sym[1,:]"
   ]
  },
  {
   "cell_type": "code",
   "execution_count": 144,
   "metadata": {
    "collapsed": false
   },
   "outputs": [
    {
     "data": {
      "text/plain": [
       "Matrix([[0, -1, 0, 0]])"
      ]
     },
     "execution_count": 144,
     "metadata": {},
     "output_type": "execute_result"
    }
   ],
   "source": [
    "umodel.uC_sym[2,:]"
   ]
  },
  {
   "cell_type": "code",
   "execution_count": 145,
   "metadata": {
    "collapsed": false
   },
   "outputs": [
    {
     "data": {
      "text/plain": [
       "Matrix([[0, 0, Ktm1**alpha*Lt**(-alpha + 1)*(-alpha + 1)*exp(-alpha*(bdmt + mua) + (admt + mua)*(-alpha + 1))/Lt, -1]])"
      ]
     },
     "execution_count": 145,
     "metadata": {},
     "output_type": "execute_result"
    }
   ],
   "source": [
    "umodel.uC_sym[3,:]"
   ]
  },
  {
   "cell_type": "code",
   "execution_count": 146,
   "metadata": {
    "collapsed": false
   },
   "outputs": [
    {
     "data": {
      "text/plain": [
       "Matrix([[0, 0, 0]])"
      ]
     },
     "execution_count": 146,
     "metadata": {},
     "output_type": "execute_result"
    }
   ],
   "source": [
    "umodel.uD_sym[0,:]"
   ]
  },
  {
   "cell_type": "code",
   "execution_count": 147,
   "metadata": {
    "collapsed": false
   },
   "outputs": [
    {
     "data": {
      "text/plain": [
       "Matrix([[0, 0, 0]])"
      ]
     },
     "execution_count": 147,
     "metadata": {},
     "output_type": "execute_result"
    }
   ],
   "source": [
    "umodel.uD_sym[1,:]"
   ]
  },
  {
   "cell_type": "code",
   "execution_count": 148,
   "metadata": {
    "collapsed": false
   },
   "outputs": [
    {
     "data": {
      "text/plain": [
       "Matrix([[0, Ktm1*(-delta + 1)*exp(-bdmt - mua), 0]])"
      ]
     },
     "execution_count": 148,
     "metadata": {},
     "output_type": "execute_result"
    }
   ],
   "source": [
    "umodel.uD_sym[2,:]"
   ]
  },
  {
   "cell_type": "code",
   "execution_count": 149,
   "metadata": {
    "collapsed": false
   },
   "outputs": [
    {
     "data": {
      "text/plain": [
       "Matrix([[Ktm1**alpha*Lt**(-alpha + 1)*(-alpha + 1)*exp(-alpha*(bdmt + mua) + (admt + mua)*(-alpha + 1)), -Ktm1**alpha*Lt**(-alpha + 1)*alpha*exp(-alpha*(bdmt + mua) + (admt + mua)*(-alpha + 1)), 0]])"
      ]
     },
     "execution_count": 149,
     "metadata": {},
     "output_type": "execute_result"
    }
   ],
   "source": [
    "umodel.uD_sym[3,:]"
   ]
  },
  {
   "cell_type": "markdown",
   "metadata": {},
   "source": [
    "### Expectational Block"
   ]
  },
  {
   "cell_type": "code",
   "execution_count": 150,
   "metadata": {
    "collapsed": false
   },
   "outputs": [
    {
     "data": {
      "text/plain": [
       "[Ct*beta*((-delta + 1)*exp(-admt - mua) + Ytp1*alpha/Kt)/Ctp1 - 1]"
      ]
     },
     "execution_count": 150,
     "metadata": {},
     "output_type": "execute_result"
    }
   ],
   "source": [
    "umodel.eqns_expec"
   ]
  },
  {
   "cell_type": "markdown",
   "metadata": {},
   "source": [
    "$F, G, H$"
   ]
  },
  {
   "cell_type": "code",
   "execution_count": 151,
   "metadata": {
    "collapsed": false
   },
   "outputs": [
    {
     "data": {
      "text/plain": [
       "(Matrix([[0]]), Matrix([[-Ct*Ytp1*alpha*beta/(Ctp1*Kt**2)]]), Matrix([[0]]))"
      ]
     },
     "execution_count": 151,
     "metadata": {},
     "output_type": "execute_result"
    }
   ],
   "source": [
    "umodel.uF_sym, umodel.uG_sym, umodel.uH_sym"
   ]
  },
  {
   "cell_type": "markdown",
   "metadata": {},
   "source": [
    "J, K"
   ]
  },
  {
   "cell_type": "code",
   "execution_count": 152,
   "metadata": {
    "collapsed": false
   },
   "outputs": [
    {
     "data": {
      "text/plain": [
       "Matrix([[-Ct*beta*((-delta + 1)*exp(-admt - mua) + Ytp1*alpha/Kt)/Ctp1**2, 0, 0, Ct*alpha*beta/(Ctp1*Kt)]])"
      ]
     },
     "execution_count": 152,
     "metadata": {},
     "output_type": "execute_result"
    }
   ],
   "source": [
    "umodel.uJ_sym"
   ]
  },
  {
   "cell_type": "code",
   "execution_count": 153,
   "metadata": {
    "collapsed": false
   },
   "outputs": [
    {
     "data": {
      "text/plain": [
       "Matrix([[beta*((-delta + 1)*exp(-admt - mua) + Ytp1*alpha/Kt)/Ctp1, 0, 0, 0]])"
      ]
     },
     "execution_count": 153,
     "metadata": {},
     "output_type": "execute_result"
    }
   ],
   "source": [
    "umodel.uK_sym"
   ]
  },
  {
   "cell_type": "markdown",
   "metadata": {},
   "source": [
    "L,M"
   ]
  },
  {
   "cell_type": "code",
   "execution_count": 154,
   "metadata": {
    "collapsed": false
   },
   "outputs": [
    {
     "data": {
      "text/plain": [
       "Matrix([[0, 0, 0]])"
      ]
     },
     "execution_count": 154,
     "metadata": {},
     "output_type": "execute_result"
    }
   ],
   "source": [
    "umodel.uL_sym"
   ]
  },
  {
   "cell_type": "code",
   "execution_count": 155,
   "metadata": {
    "collapsed": false
   },
   "outputs": [
    {
     "data": {
      "text/plain": [
       "Matrix([[-Ct*beta*(-delta + 1)*exp(-admt - mua)/Ctp1, 0, 0]])"
      ]
     },
     "execution_count": 155,
     "metadata": {},
     "output_type": "execute_result"
    }
   ],
   "source": [
    "umodel.uM_sym"
   ]
  },
  {
   "cell_type": "markdown",
   "metadata": {},
   "source": [
    "### Z block"
   ]
  },
  {
   "cell_type": "code",
   "execution_count": 156,
   "metadata": {
    "collapsed": false
   },
   "outputs": [
    {
     "data": {
      "text/plain": [
       "[rhoa*zetaat + sigmazetaa*wzetaatp1 - zetaatp1,\n",
       " -admt + sigmaa*watp1 + zetaat,\n",
       " -admt + bdmtp1]"
      ]
     },
     "execution_count": 156,
     "metadata": {},
     "output_type": "execute_result"
    }
   ],
   "source": [
    "umodel.eqns_z"
   ]
  },
  {
   "cell_type": "code",
   "execution_count": 157,
   "metadata": {
    "collapsed": false
   },
   "outputs": [
    {
     "data": {
      "text/plain": [
       "Matrix([\n",
       "[ 0, 0, rhoa],\n",
       "[-1, 0,    1],\n",
       "[-1, 0,    0]])"
      ]
     },
     "execution_count": 157,
     "metadata": {},
     "output_type": "execute_result"
    }
   ],
   "source": [
    "umodel.uN_sym"
   ]
  },
  {
   "cell_type": "markdown",
   "metadata": {},
   "source": [
    "## Inspecting evaluated Jacobians"
   ]
  },
  {
   "cell_type": "code",
   "execution_count": 158,
   "metadata": {
    "collapsed": true
   },
   "outputs": [],
   "source": [
    "np.set_printoptions(precision=2)"
   ]
  },
  {
   "cell_type": "code",
   "execution_count": 159,
   "metadata": {
    "collapsed": false
   },
   "outputs": [
    {
     "data": {
      "text/plain": [
       "array([[ 0.],\n",
       "       [ 0.],\n",
       "       [ 1.],\n",
       "       [ 0.]])"
      ]
     },
     "execution_count": 159,
     "metadata": {},
     "output_type": "execute_result"
    }
   ],
   "source": [
    "umodel.uA_num_ss"
   ]
  },
  {
   "cell_type": "code",
   "execution_count": 160,
   "metadata": {
    "collapsed": false
   },
   "outputs": [
    {
     "data": {
      "text/plain": [
       "array([[ 0.  ],\n",
       "       [ 0.  ],\n",
       "       [-0.87],\n",
       "       [ 0.15]])"
      ]
     },
     "execution_count": 160,
     "metadata": {},
     "output_type": "execute_result"
    }
   ],
   "source": [
    "umodel.uB_num_ss"
   ]
  },
  {
   "cell_type": "code",
   "execution_count": 161,
   "metadata": {
    "collapsed": false
   },
   "outputs": [
    {
     "data": {
      "text/plain": [
       "array([[ 0.  ],\n",
       "       [ 0.  ],\n",
       "       [-0.87],\n",
       "       [ 0.15]])"
      ]
     },
     "execution_count": 161,
     "metadata": {},
     "output_type": "execute_result"
    }
   ],
   "source": [
    "umodel.uB_num_ss"
   ]
  },
  {
   "cell_type": "code",
   "execution_count": 162,
   "metadata": {
    "collapsed": false
   },
   "outputs": [
    {
     "data": {
      "text/plain": [
       "array([[-1.19,  0.  , -1.9 ,  0.82],\n",
       "       [ 1.  ,  1.  ,  0.  , -1.  ],\n",
       "       [ 0.  , -1.  ,  0.  ,  0.  ],\n",
       "       [ 0.  ,  0.  ,  1.07, -1.  ]])"
      ]
     },
     "execution_count": 162,
     "metadata": {},
     "output_type": "execute_result"
    }
   ],
   "source": [
    "umodel.uC_num_ss"
   ]
  },
  {
   "cell_type": "code",
   "execution_count": 163,
   "metadata": {
    "collapsed": false
   },
   "outputs": [
    {
     "data": {
      "text/plain": [
       "array([[ 0.  ,  0.  ,  0.  ],\n",
       "       [ 0.  ,  0.  ,  0.  ],\n",
       "       [ 0.  ,  0.99,  0.  ],\n",
       "       [ 0.29, -0.17,  0.  ]])"
      ]
     },
     "execution_count": 163,
     "metadata": {},
     "output_type": "execute_result"
    }
   ],
   "source": [
    "umodel.uD_num_ss"
   ]
  },
  {
   "cell_type": "code",
   "execution_count": 164,
   "metadata": {
    "collapsed": false
   },
   "outputs": [
    {
     "data": {
      "text/plain": [
       "array([[ 0.]])"
      ]
     },
     "execution_count": 164,
     "metadata": {},
     "output_type": "execute_result"
    }
   ],
   "source": [
    "umodel.uF_num_ss"
   ]
  },
  {
   "cell_type": "code",
   "execution_count": 165,
   "metadata": {
    "collapsed": false
   },
   "outputs": [
    {
     "data": {
      "text/plain": [
       "array([[-0.13]])"
      ]
     },
     "execution_count": 165,
     "metadata": {},
     "output_type": "execute_result"
    }
   ],
   "source": [
    "umodel.uG_num_ss"
   ]
  },
  {
   "cell_type": "code",
   "execution_count": 166,
   "metadata": {
    "collapsed": false
   },
   "outputs": [
    {
     "data": {
      "text/plain": [
       "array([[ 0.]])"
      ]
     },
     "execution_count": 166,
     "metadata": {},
     "output_type": "execute_result"
    }
   ],
   "source": [
    "umodel.uH_num_ss"
   ]
  },
  {
   "cell_type": "code",
   "execution_count": 167,
   "metadata": {
    "collapsed": false
   },
   "outputs": [
    {
     "data": {
      "text/plain": [
       "array([[-3.15,  0.  ,  0.  ,  0.31]])"
      ]
     },
     "execution_count": 167,
     "metadata": {},
     "output_type": "execute_result"
    }
   ],
   "source": [
    "umodel.uJ_num_ss"
   ]
  },
  {
   "cell_type": "code",
   "execution_count": 168,
   "metadata": {
    "collapsed": false
   },
   "outputs": [
    {
     "data": {
      "text/plain": [
       "array([[ 3.15,  0.  ,  0.  ,  0.  ]])"
      ]
     },
     "execution_count": 168,
     "metadata": {},
     "output_type": "execute_result"
    }
   ],
   "source": [
    "umodel.uK_num_ss"
   ]
  },
  {
   "cell_type": "code",
   "execution_count": 169,
   "metadata": {
    "collapsed": false
   },
   "outputs": [
    {
     "data": {
      "text/plain": [
       "array([[ 0.,  0.,  0.]])"
      ]
     },
     "execution_count": 169,
     "metadata": {},
     "output_type": "execute_result"
    }
   ],
   "source": [
    "umodel.uL_num_ss"
   ]
  },
  {
   "cell_type": "code",
   "execution_count": 170,
   "metadata": {
    "collapsed": false
   },
   "outputs": [
    {
     "data": {
      "text/plain": [
       "array([[-0.86,  0.  ,  0.  ]])"
      ]
     },
     "execution_count": 170,
     "metadata": {},
     "output_type": "execute_result"
    }
   ],
   "source": [
    "umodel.uM_num_ss"
   ]
  },
  {
   "cell_type": "code",
   "execution_count": 171,
   "metadata": {
    "collapsed": false
   },
   "outputs": [
    {
     "data": {
      "text/plain": [
       "array([[ 0.  ,  0.  ,  0.97],\n",
       "       [-1.  ,  0.  ,  1.  ],\n",
       "       [-1.  ,  0.  ,  0.  ]])"
      ]
     },
     "execution_count": 171,
     "metadata": {},
     "output_type": "execute_result"
    }
   ],
   "source": [
    "umodel.uN_num_ss"
   ]
  },
  {
   "cell_type": "code",
   "execution_count": 172,
   "metadata": {
    "collapsed": false
   },
   "outputs": [
    {
     "data": {
      "text/plain": [
       "[1, 2, 3, 41, 5]"
      ]
     },
     "execution_count": 172,
     "metadata": {},
     "output_type": "execute_result"
    }
   ],
   "source": [
    "foo = [1,2,3]\n",
    "moo = [41,5]\n",
    "foo.extend(moo)\n",
    "foo"
   ]
  },
  {
   "cell_type": "code",
   "execution_count": 173,
   "metadata": {
    "collapsed": false
   },
   "outputs": [],
   "source": [
    "foo.append(moo)"
   ]
  },
  {
   "cell_type": "code",
   "execution_count": 174,
   "metadata": {
    "collapsed": false
   },
   "outputs": [
    {
     "ename": "AttributeError",
     "evalue": "'list' object has no attribute 'flatten'",
     "output_type": "error",
     "traceback": [
      "\u001b[1;31m---------------------------------------------------------------------------\u001b[0m",
      "\u001b[1;31mAttributeError\u001b[0m                            Traceback (most recent call last)",
      "\u001b[1;32m<ipython-input-174-bfdc5a571fdb>\u001b[0m in \u001b[0;36m<module>\u001b[1;34m()\u001b[0m\n\u001b[1;32m----> 1\u001b[1;33m \u001b[0mfoo\u001b[0m\u001b[1;33m.\u001b[0m\u001b[0mflatten\u001b[0m\u001b[1;33m(\u001b[0m\u001b[1;33m)\u001b[0m\u001b[1;33m\u001b[0m\u001b[0m\n\u001b[0m",
      "\u001b[1;31mAttributeError\u001b[0m: 'list' object has no attribute 'flatten'"
     ]
    }
   ],
   "source": [
    "foo.flatten()"
   ]
  },
  {
   "cell_type": "code",
   "execution_count": null,
   "metadata": {
    "collapsed": true
   },
   "outputs": [],
   "source": []
  }
 ],
 "metadata": {
  "kernelspec": {
   "display_name": "Python 2",
   "language": "python",
   "name": "python2"
  },
  "language_info": {
   "codemirror_mode": {
    "name": "ipython",
    "version": 2
   },
   "file_extension": ".py",
   "mimetype": "text/x-python",
   "name": "python",
   "nbconvert_exporter": "python",
   "pygments_lexer": "ipython2",
   "version": "2.7.11"
  }
 },
 "nbformat": 4,
 "nbformat_minor": 0
}
