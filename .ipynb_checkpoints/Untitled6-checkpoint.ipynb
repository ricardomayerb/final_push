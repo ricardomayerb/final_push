{
 "cells": [
  {
   "cell_type": "code",
   "execution_count": 1,
   "metadata": {
    "collapsed": true
   },
   "outputs": [],
   "source": [
    "import sympy\n",
    "import numpy as np"
   ]
  },
  {
   "cell_type": "code",
   "execution_count": 59,
   "metadata": {
    "collapsed": false
   },
   "outputs": [
    {
     "name": "stdout",
     "output_type": "stream",
     "text": [
      "in init, self.eq_conditions [Ct*beta*(-delta + 1 + Ytp1*alpha/Ktp1)*exp(-at)/Ctp1 - 1, -Ct - It + Yt, -Lt/(-Lt + 1) + Yt*nu*(-alpha + 1)/(Ct*(-nu + 1)), -rhoa*zetaatm1 - sigmazetaa*wzetaat + zetaat, at - mua - sigmaa*wat - zetaat, -Kt**alpha*Lt**(-alpha + 1)*exp(at*(-alpha + 1)) + Yt, It + Kt*(-delta + 1) - Ktp1*exp(at)]\n",
      "\n",
      "args_values_x [0.317899627864000, 0.274766156841000, 0.142840006569000, 1.09494091338000, 0.0, 0.460739634432000, 0.0300000000000000, 0.0300000000000000, 0.274766156841000, 0.142840006569000, 0.317899627864000, 0.460739634432000, 0.0, 0.142840006569000, 1.09494091338000, 1.09494091338000, 0.0, 0.0300000000000000, 0.460739634432000, 0.274766156841000, 0.317899627864000]\n",
      "\n",
      "args_values_x_alt [0.317899627864000, 0.142840006569000, 1.09494091338000, 0.274766156841000, 0.460739634432000, 0.0300000000000000, 0.0, 0.317899627864000, 0.142840006569000, 1.09494091338000, 0.274766156841000, 0.460739634432000, 0.0300000000000000, 0.0, 0.317899627864000, 0.142840006569000, 1.09494091338000, 0.274766156841000, 0.460739634432000, 0.0300000000000000, 0.0]\n",
      "\n",
      "args_values_w [0, 0, 0, 0]\n",
      "\n",
      "args_values_w_alt [0, 0, 0, 0]\n",
      "len(eqs) 7\n",
      "eqs: [Ct*beta*(-delta + 1 + Ytp1*alpha/Ktp1)*exp(-at)/Ctp1 - 1, -Ct - It + Yt, -Lt/(-Lt + 1) + Yt*nu*(-alpha + 1)/(Ct*(-nu + 1)), -rhoa*zetaatm1 - sigmazetaa*wzetaat + zetaat, at - mua - sigmaa*wat - zetaat, -Kt**alpha*Lt**(-alpha + 1)*exp(at*(-alpha + 1)) + Yt, It + Kt*(-delta + 1) - Ktp1*exp(at)]\n",
      "hey! I'm using a numpy function!\n",
      "\n",
      "End of script!\n"
     ]
    }
   ],
   "source": [
    "%run use_fipiro.py"
   ]
  },
  {
   "cell_type": "code",
   "execution_count": 3,
   "metadata": {
    "collapsed": false
   },
   "outputs": [
    {
     "data": {
      "text/plain": [
       "[Ct*beta*(-delta + 1 + Ytp1*alpha/Ktp1)*exp(-at)/Ctp1 - 1,\n",
       " -Ct - It + Yt,\n",
       " -Lt/(-Lt + 1) + Yt*nu*(-alpha + 1)/(Ct*(-nu + 1)),\n",
       " -rhoa*zetaatm1 - sigmazetaa*wzetaat + zetaat,\n",
       " at - mua - sigmaa*wat - zetaat,\n",
       " -Kt**alpha*Lt**(-alpha + 1)*exp(at*(-alpha + 1)) + Yt,\n",
       " It + Kt*(-delta + 1) - Ktp1*exp(at)]"
      ]
     },
     "execution_count": 3,
     "metadata": {},
     "output_type": "execute_result"
    }
   ],
   "source": [
    "fi.eq_conditions"
   ]
  },
  {
   "cell_type": "code",
   "execution_count": 4,
   "metadata": {
    "collapsed": false
   },
   "outputs": [
    {
     "data": {
      "text/plain": [
       "Matrix([\n",
       "[Ct*beta*(-delta + 1 + Ytp1*alpha/Ktp1)*exp(-at)/Ctp1 - 1],\n",
       "[                                           -Ct - It + Yt],\n",
       "[       -Lt/(-Lt + 1) + Yt*nu*(-alpha + 1)/(Ct*(-nu + 1))],\n",
       "[            -rhoa*zetaatm1 - sigmazetaa*wzetaat + zetaat],\n",
       "[                          at - mua - sigmaa*wat - zetaat],\n",
       "[   -Kt**alpha*Lt**(-alpha + 1)*exp(at*(-alpha + 1)) + Yt],\n",
       "[                     It + Kt*(-delta + 1) - Ktp1*exp(at)]])"
      ]
     },
     "execution_count": 4,
     "metadata": {},
     "output_type": "execute_result"
    }
   ],
   "source": [
    "fi.eq_conditions_matrix"
   ]
  },
  {
   "cell_type": "code",
   "execution_count": 5,
   "metadata": {
    "collapsed": false
   },
   "outputs": [
    {
     "data": {
      "text/plain": [
       "[0.98*Ct*(0.9 + 0.36*Ytp1/Ktp1)*exp(-at)/Ctp1 - 1,\n",
       " -Ct - It + Yt,\n",
       " -Lt/(-Lt + 1) + 0.261408450704225*Yt/Ct,\n",
       " -0.01*wzetaat + zetaat - 0.97*zetaatm1,\n",
       " at - 0.075*wat - zetaat - 0.03,\n",
       " -Kt**0.36*Lt**0.64*exp(0.64*at) + Yt,\n",
       " It + 0.9*Kt - Ktp1*exp(at)]"
      ]
     },
     "execution_count": 5,
     "metadata": {},
     "output_type": "execute_result"
    }
   ],
   "source": [
    "fi.eq_conditions_nopar"
   ]
  },
  {
   "cell_type": "code",
   "execution_count": 6,
   "metadata": {
    "collapsed": false
   },
   "outputs": [
    {
     "data": {
      "text/plain": [
       "[0.98*(0.9 + 0.36*Y_ss/K_ss)*exp(-a_ss) - 1,\n",
       " -C_ss - I_ss + Y_ss,\n",
       " -L_ss/(-L_ss + 1) + 0.261408450704225*Y_ss/C_ss,\n",
       " 0.03*zetaa_ss,\n",
       " a_ss - zetaa_ss - 0.03,\n",
       " -K_ss**0.36*L_ss**0.64*exp(0.64*a_ss) + Y_ss,\n",
       " I_ss - K_ss*exp(a_ss) + 0.9*K_ss]"
      ]
     },
     "execution_count": 6,
     "metadata": {},
     "output_type": "execute_result"
    }
   ],
   "source": [
    "fi.eq_conditions_nopar_ss"
   ]
  },
  {
   "cell_type": "code",
   "execution_count": 7,
   "metadata": {
    "collapsed": false
   },
   "outputs": [
    {
     "data": {
      "text/plain": [
       "Matrix([\n",
       "[Ct*beta*(-delta + 1 + Ytp1*alpha/Ktp1)*exp(-at)/Ctp1 - 1],\n",
       "[                                           -Ct - It + Yt],\n",
       "[       -Lt/(-Lt + 1) + Yt*nu*(-alpha + 1)/(Ct*(-nu + 1))],\n",
       "[            -rhoa*zetaatm1 - sigmazetaa*wzetaat + zetaat],\n",
       "[                          at - mua - sigmaa*wat - zetaat],\n",
       "[   -Kt**alpha*Lt**(-alpha + 1)*exp(at*(-alpha + 1)) + Yt],\n",
       "[                     It + Kt*(-delta + 1) - Ktp1*exp(at)]])"
      ]
     },
     "execution_count": 7,
     "metadata": {},
     "output_type": "execute_result"
    }
   ],
   "source": [
    "foo = fi.eq_conditions_matrix\n",
    "foo"
   ]
  },
  {
   "cell_type": "code",
   "execution_count": 8,
   "metadata": {
    "collapsed": false
   },
   "outputs": [
    {
     "data": {
      "text/plain": [
       "[Ctp1, Itp1, Ktp1, Ltp1, Ytp1, atp1, zetaatp1]"
      ]
     },
     "execution_count": 8,
     "metadata": {},
     "output_type": "execute_result"
    }
   ],
   "source": [
    "fi.xvar_tp1_sym"
   ]
  },
  {
   "cell_type": "code",
   "execution_count": 9,
   "metadata": {
    "collapsed": false
   },
   "outputs": [
    {
     "data": {
      "text/plain": [
       "Matrix([\n",
       "[-Ct*beta*(-delta + 1 + Ytp1*alpha/Ktp1)*exp(-at)/Ctp1**2, 0, -Ct*Ytp1*alpha*beta*exp(-at)/(Ctp1*Ktp1**2), 0, Ct*alpha*beta*exp(-at)/(Ctp1*Ktp1), 0, 0],\n",
       "[                                                       0, 0,                                           0, 0,                                  0, 0, 0],\n",
       "[                                                       0, 0,                                           0, 0,                                  0, 0, 0],\n",
       "[                                                       0, 0,                                           0, 0,                                  0, 0, 0],\n",
       "[                                                       0, 0,                                           0, 0,                                  0, 0, 0],\n",
       "[                                                       0, 0,                                           0, 0,                                  0, 0, 0],\n",
       "[                                                       0, 0,                                    -exp(at), 0,                                  0, 0, 0]])"
      ]
     },
     "execution_count": 9,
     "metadata": {},
     "output_type": "execute_result"
    }
   ],
   "source": [
    "dmat_dxtp1 = foo.jacobian(fi.xvar_tp1_sym)\n",
    "dmat_dxtp1"
   ]
  },
  {
   "cell_type": "code",
   "execution_count": 10,
   "metadata": {
    "collapsed": false
   },
   "outputs": [
    {
     "data": {
      "text/plain": [
       "Matrix([\n",
       "[beta*(-delta + 1 + Ytp1*alpha/Ktp1)*exp(-at)/Ctp1,  0,                                                         0,                                                                0,                              0,         -Ct*beta*(-delta + 1 + Ytp1*alpha/Ktp1)*exp(-at)/Ctp1,  0],\n",
       "[                                               -1, -1,                                                         0,                                                                0,                              1,                                                             0,  0],\n",
       "[            -Yt*nu*(-alpha + 1)/(Ct**2*(-nu + 1)),  0,                                                         0,                                   -Lt/(-Lt + 1)**2 - 1/(-Lt + 1), nu*(-alpha + 1)/(Ct*(-nu + 1)),                                                             0,  0],\n",
       "[                                                0,  0,                                                         0,                                                                0,                              0,                                                             0,  1],\n",
       "[                                                0,  0,                                                         0,                                                                0,                              0,                                                             1, -1],\n",
       "[                                                0,  0, -Kt**alpha*Lt**(-alpha + 1)*alpha*exp(at*(-alpha + 1))/Kt, -Kt**alpha*Lt**(-alpha + 1)*(-alpha + 1)*exp(at*(-alpha + 1))/Lt,                              1, -Kt**alpha*Lt**(-alpha + 1)*(-alpha + 1)*exp(at*(-alpha + 1)),  0],\n",
       "[                                                0,  1,                                                -delta + 1,                                                                0,                              0,                                                 -Ktp1*exp(at),  0]])"
      ]
     },
     "execution_count": 10,
     "metadata": {},
     "output_type": "execute_result"
    }
   ],
   "source": [
    "dmat_dxt = foo.jacobian(fi.xvar_t_sym)\n",
    "dmat_dxt\n"
   ]
  },
  {
   "cell_type": "code",
   "execution_count": 11,
   "metadata": {
    "collapsed": false
   },
   "outputs": [
    {
     "data": {
      "text/plain": [
       "Matrix([\n",
       "[0, 0, 0, 0, 0, 0,     0],\n",
       "[0, 0, 0, 0, 0, 0,     0],\n",
       "[0, 0, 0, 0, 0, 0,     0],\n",
       "[0, 0, 0, 0, 0, 0, -rhoa],\n",
       "[0, 0, 0, 0, 0, 0,     0],\n",
       "[0, 0, 0, 0, 0, 0,     0],\n",
       "[0, 0, 0, 0, 0, 0,     0]])"
      ]
     },
     "execution_count": 11,
     "metadata": {},
     "output_type": "execute_result"
    }
   ],
   "source": [
    "dmat_dxtm1 = foo.jacobian(fi.xvar_tm1_sym)\n",
    "dmat_dxtm1"
   ]
  },
  {
   "cell_type": "code",
   "execution_count": 12,
   "metadata": {
    "collapsed": false
   },
   "outputs": [
    {
     "data": {
      "text/plain": [
       "Matrix([\n",
       "[0, 0],\n",
       "[0, 0],\n",
       "[0, 0],\n",
       "[0, 0],\n",
       "[0, 0],\n",
       "[0, 0],\n",
       "[0, 0]])"
      ]
     },
     "execution_count": 12,
     "metadata": {},
     "output_type": "execute_result"
    }
   ],
   "source": [
    "dmat_dwtp1 = foo.jacobian(fi.wvar_tp1_sym)\n",
    "dmat_dwtp1"
   ]
  },
  {
   "cell_type": "code",
   "execution_count": 13,
   "metadata": {
    "collapsed": false
   },
   "outputs": [
    {
     "data": {
      "text/plain": [
       "Matrix([\n",
       "[      0,           0],\n",
       "[      0,           0],\n",
       "[      0,           0],\n",
       "[      0, -sigmazetaa],\n",
       "[-sigmaa,           0],\n",
       "[      0,           0],\n",
       "[      0,           0]])"
      ]
     },
     "execution_count": 13,
     "metadata": {},
     "output_type": "execute_result"
    }
   ],
   "source": [
    "dmat_dwt = foo.jacobian(fi.wvar_t_sym)\n",
    "dmat_dwt"
   ]
  },
  {
   "cell_type": "code",
   "execution_count": 14,
   "metadata": {
    "collapsed": false
   },
   "outputs": [
    {
     "data": {
      "text/plain": [
       "Matrix([\n",
       "[0],\n",
       "[0],\n",
       "[0],\n",
       "[0],\n",
       "[0],\n",
       "[0],\n",
       "[0]])"
      ]
     },
     "execution_count": 14,
     "metadata": {},
     "output_type": "execute_result"
    }
   ],
   "source": [
    "dmat_dq = foo.jacobian([fi.q])\n",
    "dmat_dq"
   ]
  },
  {
   "cell_type": "code",
   "execution_count": 45,
   "metadata": {
    "collapsed": false
   },
   "outputs": [
    {
     "name": "stdout",
     "output_type": "stream",
     "text": [
      "len(eqs) 7\n",
      "eqs: [Ct*beta*(-delta + 1 + Ytp1*alpha/Ktp1)*exp(-at)/Ctp1 - 1, -Ct - It + Yt, -Lt/(-Lt + 1) + Yt*nu*(-alpha + 1)/(Ct*(-nu + 1)), -rhoa*zetaatm1 - sigmazetaa*wzetaat + zetaat, at - mua - sigmaa*wat - zetaat, -Kt**alpha*Lt**(-alpha + 1)*exp(at*(-alpha + 1)) + Yt, It + Kt*(-delta + 1) - Ktp1*exp(at)]\n",
      "hey! I'm using a numpy function!\n"
     ]
    }
   ],
   "source": [
    "de1 , de2 = fi.get_evaluated_dgdxw12()"
   ]
  },
  {
   "cell_type": "code",
   "execution_count": 60,
   "metadata": {
    "collapsed": false
   },
   "outputs": [
    {
     "name": "stdout",
     "output_type": "stream",
     "text": [
      "hey! I'm using a numpy function!\n"
     ]
    }
   ],
   "source": [
    "fi.fun_d_first_numpy=None\n",
    "fi.fun_d_second_numpy=None\n",
    "newde1, newde2 = fi.new_get_dgdxw12_evaluated_at_ss"
   ]
  },
  {
   "cell_type": "code",
   "execution_count": 65,
   "metadata": {
    "collapsed": false
   },
   "outputs": [
    {
     "data": {
      "text/plain": [
       "[array([[ 0.,  0.,  0.,  0.,  0.,  0.,  0.],\n",
       "        [ 0.,  0.,  0.,  0.,  0.,  0.,  0.],\n",
       "        [ 0.,  0.,  0.,  0.,  0.,  0.,  0.],\n",
       "        [ 0.,  0.,  0.,  0.,  0.,  0.,  0.],\n",
       "        [ 0.,  0.,  0.,  0.,  0.,  0.,  0.],\n",
       "        [ 0.,  0.,  0.,  0.,  0.,  0.,  0.],\n",
       "        [ 0.,  0.,  0.,  0.,  0.,  0.,  0.]]),\n",
       " array([[ 0.,  0.,  0.,  0.,  0.,  0.,  0.],\n",
       "        [ 0.,  0.,  0.,  0.,  0.,  0.,  0.],\n",
       "        [ 0.,  0.,  0.,  0.,  0.,  0.,  0.],\n",
       "        [ 0.,  0.,  0.,  0.,  0.,  0.,  0.],\n",
       "        [ 0.,  0.,  0.,  0.,  0.,  0.,  0.],\n",
       "        [ 0.,  0.,  0.,  0.,  0.,  0.,  0.],\n",
       "        [ 0.,  0.,  0.,  0.,  0.,  0.,  0.]]),\n",
       " array([[ 0.,  0.,  0.,  0.,  0.,  0.,  0.],\n",
       "        [ 0.,  0.,  0.,  0.,  0.,  0.,  0.],\n",
       "        [ 0.,  0.,  0.,  0.,  0.,  0.,  0.],\n",
       "        [ 0.,  0.,  0.,  0.,  0.,  0.,  0.],\n",
       "        [ 0.,  0.,  0.,  0.,  0.,  0.,  0.],\n",
       "        [ 0.,  0.,  0.,  0.,  0.,  0.,  0.],\n",
       "        [ 0.,  0.,  0.,  0.,  0.,  0.,  0.]]),\n",
       " array([[ 0.,  0.],\n",
       "        [ 0.,  0.],\n",
       "        [ 0.,  0.],\n",
       "        [ 0.,  0.],\n",
       "        [ 0.,  0.],\n",
       "        [ 0.,  0.],\n",
       "        [ 0.,  0.]]),\n",
       " array([[ 0.,  0.],\n",
       "        [ 0.,  0.],\n",
       "        [ 0.,  0.],\n",
       "        [ 0.,  0.],\n",
       "        [ 0.,  0.],\n",
       "        [ 0.,  0.],\n",
       "        [ 0.,  0.]]),\n",
       " array([[ 0.],\n",
       "        [ 0.],\n",
       "        [ 0.],\n",
       "        [ 0.],\n",
       "        [ 0.],\n",
       "        [ 0.],\n",
       "        [ 0.]])]"
      ]
     },
     "execution_count": 65,
     "metadata": {},
     "output_type": "execute_result"
    }
   ],
   "source": [
    "[newde1[i]-newde1_alt[i] for i in range(6)]"
   ]
  },
  {
   "cell_type": "code",
   "execution_count": 68,
   "metadata": {
    "collapsed": false
   },
   "outputs": [],
   "source": [
    "[newde2[i]-newde2_alt[i] for i in range(36)];"
   ]
  },
  {
   "cell_type": "code",
   "execution_count": 19,
   "metadata": {
    "collapsed": false
   },
   "outputs": [
    {
     "data": {
      "text/plain": [
       "6"
      ]
     },
     "execution_count": 19,
     "metadata": {},
     "output_type": "execute_result"
    }
   ],
   "source": [
    "len(de1)"
   ]
  },
  {
   "cell_type": "code",
   "execution_count": 20,
   "metadata": {
    "collapsed": false
   },
   "outputs": [
    {
     "data": {
      "text/plain": [
       "array([[-3.14564697,  0.        , -0.13157517,  0.        ,  0.31268645,\n",
       "         0.        ,  0.        ],\n",
       "       [ 0.        ,  0.        ,  0.        ,  0.        ,  0.        ,\n",
       "         0.        ,  0.        ],\n",
       "       [ 0.        ,  0.        ,  0.        ,  0.        ,  0.        ,\n",
       "         0.        ,  0.        ],\n",
       "       [ 0.        ,  0.        ,  0.        ,  0.        ,  0.        ,\n",
       "         0.        ,  0.        ],\n",
       "       [ 0.        ,  0.        ,  0.        ,  0.        ,  0.        ,\n",
       "         0.        ,  0.        ],\n",
       "       [ 0.        ,  0.        ,  0.        ,  0.        ,  0.        ,\n",
       "         0.        ,  0.        ],\n",
       "       [ 0.        ,  0.        , -1.03045453,  0.        ,  0.        ,\n",
       "         0.        ,  0.        ]])"
      ]
     },
     "execution_count": 20,
     "metadata": {},
     "output_type": "execute_result"
    }
   ],
   "source": [
    "dmat_dxtp1_e = de1[0]\n",
    "dmat_dxtp1_e"
   ]
  },
  {
   "cell_type": "code",
   "execution_count": 53,
   "metadata": {
    "collapsed": false
   },
   "outputs": [
    {
     "data": {
      "text/plain": [
       "array([[ 0.,  0.,  0.,  0.,  0.,  0.,  0.],\n",
       "       [ 0.,  0.,  0.,  0.,  0.,  0.,  0.],\n",
       "       [ 0.,  0.,  0.,  0.,  0.,  0.,  0.],\n",
       "       [ 0.,  0.,  0.,  0.,  0.,  0.,  0.],\n",
       "       [ 0.,  0.,  0.,  0.,  0.,  0.,  0.],\n",
       "       [ 0.,  0.,  0.,  0.,  0.,  0.,  0.],\n",
       "       [ 0.,  0.,  0.,  0.,  0.,  0.,  0.]])"
      ]
     },
     "execution_count": 53,
     "metadata": {},
     "output_type": "execute_result"
    }
   ],
   "source": [
    "newde1[0]-de1[0]"
   ]
  },
  {
   "cell_type": "code",
   "execution_count": 21,
   "metadata": {
    "collapsed": false
   },
   "outputs": [
    {
     "data": {
      "text/plain": [
       "Matrix([\n",
       "[-Ct*beta*(-delta + 1 + Ytp1*alpha/Ktp1)*exp(-at)/Ctp1**2, 0, -Ct*Ytp1*alpha*beta*exp(-at)/(Ctp1*Ktp1**2), 0, Ct*alpha*beta*exp(-at)/(Ctp1*Ktp1), 0, 0],\n",
       "[                                                       0, 0,                                           0, 0,                                  0, 0, 0],\n",
       "[                                                       0, 0,                                           0, 0,                                  0, 0, 0],\n",
       "[                                                       0, 0,                                           0, 0,                                  0, 0, 0],\n",
       "[                                                       0, 0,                                           0, 0,                                  0, 0, 0],\n",
       "[                                                       0, 0,                                           0, 0,                                  0, 0, 0],\n",
       "[                                                       0, 0,                                    -exp(at), 0,                                  0, 0, 0]])"
      ]
     },
     "execution_count": 21,
     "metadata": {},
     "output_type": "execute_result"
    }
   ],
   "source": [
    "dmat_dxtp1"
   ]
  },
  {
   "cell_type": "code",
   "execution_count": 27,
   "metadata": {
    "collapsed": false
   },
   "outputs": [
    {
     "data": {
      "text/plain": [
       "Matrix([\n",
       "[-3.14564696643839, 0, -0.131575172387866, 0, 0.312686447325302, 0, 0],\n",
       "[                0, 0,                  0, 0,                 0, 0, 0],\n",
       "[                0, 0,                  0, 0,                 0, 0, 0],\n",
       "[                0, 0,                  0, 0,                 0, 0, 0],\n",
       "[                0, 0,                  0, 0,                 0, 0, 0],\n",
       "[                0, 0,                  0, 0,                 0, 0, 0],\n",
       "[                0, 0,  -1.03045453395352, 0,                 0, 0, 0]])"
      ]
     },
     "execution_count": 27,
     "metadata": {},
     "output_type": "execute_result"
    }
   ],
   "source": [
    "dmat_dxtp1.subs(fi.par_to_values_dict).subs(fi.normal_x_s_ss_values_d)"
   ]
  },
  {
   "cell_type": "code",
   "execution_count": 28,
   "metadata": {
    "collapsed": false
   },
   "outputs": [
    {
     "data": {
      "text/plain": [
       "array([[-3.14564697,  0.        , -0.13157517,  0.        ,  0.31268645,\n",
       "         0.        ,  0.        ],\n",
       "       [ 0.        ,  0.        ,  0.        ,  0.        ,  0.        ,\n",
       "         0.        ,  0.        ],\n",
       "       [ 0.        ,  0.        ,  0.        ,  0.        ,  0.        ,\n",
       "         0.        ,  0.        ],\n",
       "       [ 0.        ,  0.        ,  0.        ,  0.        ,  0.        ,\n",
       "         0.        ,  0.        ],\n",
       "       [ 0.        ,  0.        ,  0.        ,  0.        ,  0.        ,\n",
       "         0.        ,  0.        ],\n",
       "       [ 0.        ,  0.        ,  0.        ,  0.        ,  0.        ,\n",
       "         0.        ,  0.        ],\n",
       "       [ 0.        ,  0.        , -1.03045453,  0.        ,  0.        ,\n",
       "         0.        ,  0.        ]])"
      ]
     },
     "execution_count": 28,
     "metadata": {},
     "output_type": "execute_result"
    }
   ],
   "source": [
    "dmat_dxtp1_e"
   ]
  },
  {
   "cell_type": "code",
   "execution_count": 29,
   "metadata": {
    "collapsed": false
   },
   "outputs": [
    {
     "data": {
      "text/plain": [
       "Matrix([\n",
       "[3.14564696643839,  0,                  0,                 0,                 0,  -1.00000000002228,  0],\n",
       "[              -1, -1,                  0,                 0,                 1,                  0,  0],\n",
       "[-1.1917774328654,  0,                  0,  -1.9012703493743, 0.822298699940781,                  0,  0],\n",
       "[               0,  0,                  0,                 0,                 0,                  0,  1],\n",
       "[               0,  0,                  0,                 0,                 0,                  1, -1],\n",
       "[               0,  0, -0.151484218343209, -1.07317935158531,                 1, -0.294873366036211,  0],\n",
       "[               0,  1,                0.9,                 0,                 0,  -1.12828682860363,  0]])"
      ]
     },
     "execution_count": 29,
     "metadata": {},
     "output_type": "execute_result"
    }
   ],
   "source": [
    "dmat_dxt.subs(fi.par_to_values_dict).subs(fi.normal_x_s_ss_values_d)"
   ]
  },
  {
   "cell_type": "code",
   "execution_count": 32,
   "metadata": {
    "collapsed": false
   },
   "outputs": [
    {
     "data": {
      "text/plain": [
       "array([[ 3.14564697,  0.        ,  0.        ,  0.        ,  0.        ,\n",
       "        -1.        ,  0.        ],\n",
       "       [-1.        , -1.        ,  0.        ,  0.        ,  1.        ,\n",
       "         0.        ,  0.        ],\n",
       "       [-1.19177743,  0.        ,  0.        , -1.90127035,  0.8222987 ,\n",
       "         0.        ,  0.        ],\n",
       "       [ 0.        ,  0.        ,  0.        ,  0.        ,  0.        ,\n",
       "         0.        ,  1.        ],\n",
       "       [ 0.        ,  0.        ,  0.        ,  0.        ,  0.        ,\n",
       "         1.        , -1.        ],\n",
       "       [ 0.        ,  0.        , -0.15148422, -1.07317935,  1.        ,\n",
       "        -0.29487337,  0.        ],\n",
       "       [ 0.        ,  1.        ,  0.9       ,  0.        ,  0.        ,\n",
       "        -1.12828683,  0.        ]])"
      ]
     },
     "execution_count": 32,
     "metadata": {},
     "output_type": "execute_result"
    }
   ],
   "source": [
    "de1[1]"
   ]
  },
  {
   "cell_type": "code",
   "execution_count": 54,
   "metadata": {
    "collapsed": false
   },
   "outputs": [
    {
     "data": {
      "text/plain": [
       "array([[ 0.,  0.,  0.,  0.,  0.,  0.,  0.],\n",
       "       [ 0.,  0.,  0.,  0.,  0.,  0.,  0.],\n",
       "       [ 0.,  0.,  0.,  0.,  0.,  0.,  0.],\n",
       "       [ 0.,  0.,  0.,  0.,  0.,  0.,  0.],\n",
       "       [ 0.,  0.,  0.,  0.,  0.,  0.,  0.],\n",
       "       [ 0.,  0.,  0.,  0.,  0.,  0.,  0.],\n",
       "       [ 0.,  0.,  0.,  0.,  0.,  0.,  0.]])"
      ]
     },
     "execution_count": 54,
     "metadata": {},
     "output_type": "execute_result"
    }
   ],
   "source": [
    "newde1[1]-de1[1]"
   ]
  },
  {
   "cell_type": "code",
   "execution_count": 33,
   "metadata": {
    "collapsed": false
   },
   "outputs": [
    {
     "data": {
      "text/plain": [
       "Matrix([\n",
       "[0, 0, 0, 0, 0, 0,     0],\n",
       "[0, 0, 0, 0, 0, 0,     0],\n",
       "[0, 0, 0, 0, 0, 0,     0],\n",
       "[0, 0, 0, 0, 0, 0, -0.97],\n",
       "[0, 0, 0, 0, 0, 0,     0],\n",
       "[0, 0, 0, 0, 0, 0,     0],\n",
       "[0, 0, 0, 0, 0, 0,     0]])"
      ]
     },
     "execution_count": 33,
     "metadata": {},
     "output_type": "execute_result"
    }
   ],
   "source": [
    "dmat_dxtm1.subs(fi.par_to_values_dict).subs(fi.normal_x_s_ss_values_d)"
   ]
  },
  {
   "cell_type": "code",
   "execution_count": 34,
   "metadata": {
    "collapsed": false
   },
   "outputs": [
    {
     "data": {
      "text/plain": [
       "array([[ 0.  ,  0.  ,  0.  ,  0.  ,  0.  ,  0.  ,  0.  ],\n",
       "       [ 0.  ,  0.  ,  0.  ,  0.  ,  0.  ,  0.  ,  0.  ],\n",
       "       [ 0.  ,  0.  ,  0.  ,  0.  ,  0.  ,  0.  ,  0.  ],\n",
       "       [ 0.  ,  0.  ,  0.  ,  0.  ,  0.  ,  0.  , -0.97],\n",
       "       [ 0.  ,  0.  ,  0.  ,  0.  ,  0.  ,  0.  ,  0.  ],\n",
       "       [ 0.  ,  0.  ,  0.  ,  0.  ,  0.  ,  0.  ,  0.  ],\n",
       "       [ 0.  ,  0.  ,  0.  ,  0.  ,  0.  ,  0.  ,  0.  ]])"
      ]
     },
     "execution_count": 34,
     "metadata": {},
     "output_type": "execute_result"
    }
   ],
   "source": [
    "de1[2]"
   ]
  },
  {
   "cell_type": "code",
   "execution_count": 55,
   "metadata": {
    "collapsed": false
   },
   "outputs": [
    {
     "data": {
      "text/plain": [
       "array([[ 0.,  0.,  0.,  0.,  0.,  0.,  0.],\n",
       "       [ 0.,  0.,  0.,  0.,  0.,  0.,  0.],\n",
       "       [ 0.,  0.,  0.,  0.,  0.,  0.,  0.],\n",
       "       [ 0.,  0.,  0.,  0.,  0.,  0.,  0.],\n",
       "       [ 0.,  0.,  0.,  0.,  0.,  0.,  0.],\n",
       "       [ 0.,  0.,  0.,  0.,  0.,  0.,  0.],\n",
       "       [ 0.,  0.,  0.,  0.,  0.,  0.,  0.]])"
      ]
     },
     "execution_count": 55,
     "metadata": {},
     "output_type": "execute_result"
    }
   ],
   "source": [
    "newde1[2]-de1[2]"
   ]
  },
  {
   "cell_type": "code",
   "execution_count": 35,
   "metadata": {
    "collapsed": false
   },
   "outputs": [
    {
     "data": {
      "text/plain": [
       "Matrix([\n",
       "[0, 0],\n",
       "[0, 0],\n",
       "[0, 0],\n",
       "[0, 0],\n",
       "[0, 0],\n",
       "[0, 0],\n",
       "[0, 0]])"
      ]
     },
     "execution_count": 35,
     "metadata": {},
     "output_type": "execute_result"
    }
   ],
   "source": [
    "dmat_dwtp1.subs(fi.par_to_values_dict).subs(fi.normal_x_s_ss_values_d)"
   ]
  },
  {
   "cell_type": "code",
   "execution_count": 36,
   "metadata": {
    "collapsed": false
   },
   "outputs": [
    {
     "data": {
      "text/plain": [
       "array([[ 0.,  0.],\n",
       "       [ 0.,  0.],\n",
       "       [ 0.,  0.],\n",
       "       [ 0.,  0.],\n",
       "       [ 0.,  0.],\n",
       "       [ 0.,  0.],\n",
       "       [ 0.,  0.]])"
      ]
     },
     "execution_count": 36,
     "metadata": {},
     "output_type": "execute_result"
    }
   ],
   "source": [
    "de1[3]"
   ]
  },
  {
   "cell_type": "code",
   "execution_count": 56,
   "metadata": {
    "collapsed": false
   },
   "outputs": [
    {
     "data": {
      "text/plain": [
       "array([[ 0.,  0.],\n",
       "       [ 0.,  0.],\n",
       "       [ 0.,  0.],\n",
       "       [ 0.,  0.],\n",
       "       [ 0.,  0.],\n",
       "       [ 0.,  0.],\n",
       "       [ 0.,  0.]])"
      ]
     },
     "execution_count": 56,
     "metadata": {},
     "output_type": "execute_result"
    }
   ],
   "source": [
    "newde1[3]-de1[3]"
   ]
  },
  {
   "cell_type": "code",
   "execution_count": 37,
   "metadata": {
    "collapsed": false
   },
   "outputs": [
    {
     "data": {
      "text/plain": [
       "Matrix([\n",
       "[     0,     0],\n",
       "[     0,     0],\n",
       "[     0,     0],\n",
       "[     0, -0.01],\n",
       "[-0.075,     0],\n",
       "[     0,     0],\n",
       "[     0,     0]])"
      ]
     },
     "execution_count": 37,
     "metadata": {},
     "output_type": "execute_result"
    }
   ],
   "source": [
    "dmat_dwt.subs(fi.par_to_values_dict).subs(fi.normal_x_s_ss_values_d)"
   ]
  },
  {
   "cell_type": "code",
   "execution_count": 38,
   "metadata": {
    "collapsed": false
   },
   "outputs": [
    {
     "data": {
      "text/plain": [
       "array([[ 0.   ,  0.   ],\n",
       "       [ 0.   ,  0.   ],\n",
       "       [ 0.   ,  0.   ],\n",
       "       [ 0.   , -0.01 ],\n",
       "       [-0.075,  0.   ],\n",
       "       [ 0.   ,  0.   ],\n",
       "       [ 0.   ,  0.   ]])"
      ]
     },
     "execution_count": 38,
     "metadata": {},
     "output_type": "execute_result"
    }
   ],
   "source": [
    "de1[4]"
   ]
  },
  {
   "cell_type": "code",
   "execution_count": 57,
   "metadata": {
    "collapsed": false
   },
   "outputs": [
    {
     "data": {
      "text/plain": [
       "array([[ 0.,  0.],\n",
       "       [ 0.,  0.],\n",
       "       [ 0.,  0.],\n",
       "       [ 0.,  0.],\n",
       "       [ 0.,  0.],\n",
       "       [ 0.,  0.],\n",
       "       [ 0.,  0.]])"
      ]
     },
     "execution_count": 57,
     "metadata": {},
     "output_type": "execute_result"
    }
   ],
   "source": [
    "newde1[4]-de1[4]"
   ]
  },
  {
   "cell_type": "code",
   "execution_count": 39,
   "metadata": {
    "collapsed": false
   },
   "outputs": [
    {
     "data": {
      "text/plain": [
       "Matrix([\n",
       "[0],\n",
       "[0],\n",
       "[0],\n",
       "[0],\n",
       "[0],\n",
       "[0],\n",
       "[0]])"
      ]
     },
     "execution_count": 39,
     "metadata": {},
     "output_type": "execute_result"
    }
   ],
   "source": [
    "dmat_dq.subs(fi.par_to_values_dict).subs(fi.normal_x_s_ss_values_d)"
   ]
  },
  {
   "cell_type": "code",
   "execution_count": 40,
   "metadata": {
    "collapsed": false
   },
   "outputs": [
    {
     "data": {
      "text/plain": [
       "array([[ 0.],\n",
       "       [ 0.],\n",
       "       [ 0.],\n",
       "       [ 0.],\n",
       "       [ 0.],\n",
       "       [ 0.],\n",
       "       [ 0.]])"
      ]
     },
     "execution_count": 40,
     "metadata": {},
     "output_type": "execute_result"
    }
   ],
   "source": [
    "de1[5]"
   ]
  },
  {
   "cell_type": "code",
   "execution_count": 58,
   "metadata": {
    "collapsed": false
   },
   "outputs": [
    {
     "data": {
      "text/plain": [
       "array([[ 0.],\n",
       "       [ 0.],\n",
       "       [ 0.],\n",
       "       [ 0.],\n",
       "       [ 0.],\n",
       "       [ 0.],\n",
       "       [ 0.]])"
      ]
     },
     "execution_count": 58,
     "metadata": {},
     "output_type": "execute_result"
    }
   ],
   "source": [
    "newde1[5]-de1[5]"
   ]
  },
  {
   "cell_type": "code",
   "execution_count": 48,
   "metadata": {
    "collapsed": true
   },
   "outputs": [],
   "source": []
  },
  {
   "cell_type": "code",
   "execution_count": 50,
   "metadata": {
    "collapsed": false
   },
   "outputs": [
    {
     "data": {
      "text/plain": [
       "{Ltm1: 0.274766156841000,\n",
       " Yt: 0.460739634432000,\n",
       " Itp1: 0.142840006569000,\n",
       " atm1: 0.0300000000000000,\n",
       " Itm1: 0.142840006569000,\n",
       " Lt: 0.274766156841000,\n",
       " Ktp1: 1.09494091338000,\n",
       " Ytm1: 0.460739634432000,\n",
       " atp1: 0.0300000000000000,\n",
       " Kt: 1.09494091338000,\n",
       " zetaatm1: 0.0,\n",
       " Ctm1: 0.317899627864000,\n",
       " Ctp1: 0.317899627864000,\n",
       " It: 0.142840006569000,\n",
       " Ytp1: 0.460739634432000,\n",
       " Ct: 0.317899627864000,\n",
       " zetaatp1: 0.0,\n",
       " at: 0.0300000000000000,\n",
       " Ktm1: 1.09494091338000,\n",
       " zetaat: 0.0,\n",
       " Ltp1: 0.274766156841000}"
      ]
     },
     "execution_count": 50,
     "metadata": {},
     "output_type": "execute_result"
    }
   ],
   "source": [
    "fi.normal_x_s_ss_values_d"
   ]
  },
  {
   "cell_type": "code",
   "execution_count": null,
   "metadata": {
    "collapsed": true
   },
   "outputs": [],
   "source": []
  }
 ],
 "metadata": {
  "kernelspec": {
   "display_name": "Python 2",
   "language": "python",
   "name": "python2"
  },
  "language_info": {
   "codemirror_mode": {
    "name": "ipython",
    "version": 2
   },
   "file_extension": ".py",
   "mimetype": "text/x-python",
   "name": "python",
   "nbconvert_exporter": "python",
   "pygments_lexer": "ipython2",
   "version": "2.7.9"
  }
 },
 "nbformat": 4,
 "nbformat_minor": 0
}
